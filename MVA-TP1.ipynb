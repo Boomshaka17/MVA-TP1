{
 "cells": [
  {
   "cell_type": "markdown",
   "metadata": {},
   "source": [
    "# Project - Image Classification and Regression\n",
    "Jean-Louis Truong"
   ]
  },
  {
   "cell_type": "code",
   "execution_count": 1,
   "metadata": {},
   "outputs": [
    {
     "name": "stderr",
     "output_type": "stream",
     "text": [
      "C:\\Users\\trace\\AppData\\Local\\Continuum\\anaconda3\\envs\\tensorflow\\lib\\site-packages\\h5py\\__init__.py:36: FutureWarning: Conversion of the second argument of issubdtype from `float` to `np.floating` is deprecated. In future, it will be treated as `np.float64 == np.dtype(float).type`.\n",
      "  from ._conv import register_converters as _register_converters\n",
      "Using TensorFlow backend.\n"
     ]
    }
   ],
   "source": [
    "import matplotlib.pyplot as plt\n",
    "import numpy as np\n",
    "import math\n",
    "import matplotlib.patches as patches\n",
    "import keras"
   ]
  },
  {
   "cell_type": "code",
   "execution_count": 2,
   "metadata": {},
   "outputs": [],
   "source": [
    "#Keras modules\n",
    "from keras.utils import np_utils\n",
    "from keras import optimizers\n",
    "from keras.models import Sequential, Model\n",
    "from keras.layers import Dense, Activation, Conv2D, MaxPooling2D, Dropout, Flatten, Input, UpSampling2D\n",
    "from keras.optimizers import SGD, Adam"
   ]
  },
  {
   "cell_type": "code",
   "execution_count": 3,
   "metadata": {},
   "outputs": [],
   "source": [
    "#mp1.py functions\n",
    "\n",
    "import matplotlib.pyplot as plt\n",
    "#matplotlib inline\n",
    "import numpy as np\n",
    "\n",
    "# On some implementations of matplotlib, you may need to change this value\n",
    "IMAGE_SIZE = 72\n",
    "\n",
    "def generate_a_drawing(figsize, U, V, noise=0.0):\n",
    "    fig = plt.figure(figsize=(figsize,figsize))\n",
    "    ax = plt.subplot(111)\n",
    "    plt.axis('Off')\n",
    "    ax.set_xlim(0,figsize)\n",
    "    ax.set_ylim(0,figsize)\n",
    "    ax.fill(U, V, \"k\")\n",
    "    fig.canvas.draw()\n",
    "    imdata = np.frombuffer(fig.canvas.tostring_rgb(), dtype=np.uint8)[::3].astype(np.float32)\n",
    "    imdata = imdata + noise * np.random.random(imdata.size)\n",
    "    plt.close(fig)\n",
    "    return imdata\n",
    "\n",
    "def generate_a_rectangle(noise=0.0, free_location=False):\n",
    "    figsize = 1.0    \n",
    "    U = np.zeros(4)\n",
    "    V = np.zeros(4)\n",
    "    if free_location:\n",
    "        corners = np.random.random(4)\n",
    "        top = max(corners[0], corners[1])\n",
    "        bottom = min(corners[0], corners[1])\n",
    "        left = min(corners[2], corners[3])\n",
    "        right = max(corners[2], corners[3])\n",
    "    else:\n",
    "        side = (0.3 + 0.7 * np.random.random()) * figsize\n",
    "        top = figsize/2 + side/2\n",
    "        bottom = figsize/2 - side/2\n",
    "        left = bottom\n",
    "        right = top\n",
    "    U[0] = U[1] = top\n",
    "    U[2] = U[3] = bottom\n",
    "    V[0] = V[3] = left\n",
    "    V[1] = V[2] = right\n",
    "    return generate_a_drawing(figsize, U, V, noise)\n",
    "\n",
    "\n",
    "def generate_a_disk(noise=0.0, free_location=False):\n",
    "    figsize = 1.0\n",
    "    if free_location:\n",
    "        center = np.random.random(2)\n",
    "    else:\n",
    "        center = (figsize/2, figsize/2)\n",
    "    radius = (0.3 + 0.7 * np.random.random()) * figsize/2\n",
    "    N = 50\n",
    "    U = np.zeros(N)\n",
    "    V = np.zeros(N)\n",
    "    i = 0\n",
    "    for t in np.linspace(0, 2*np.pi, N):\n",
    "        U[i] = center[0] + np.cos(t) * radius\n",
    "        V[i] = center[1] + np.sin(t) * radius\n",
    "        i = i + 1\n",
    "    return generate_a_drawing(figsize, U, V, noise)\n",
    "\n",
    "def generate_a_triangle(noise=0.0, free_location=False):\n",
    "    figsize = 1.0\n",
    "    if free_location:\n",
    "        U = np.random.random(3)\n",
    "        V = np.random.random(3)\n",
    "    else:\n",
    "        size = (0.3 + 0.7 * np.random.random())*figsize/2\n",
    "        middle = figsize/2\n",
    "        U = (middle, middle+size, middle-size)\n",
    "        V = (middle+size, middle-size, middle-size)\n",
    "    imdata = generate_a_drawing(figsize, U, V, noise)\n",
    "    return [imdata, [U[0], V[0], U[1], V[1], U[2], V[2]]]\n",
    "\n",
    "\n",
    "#im = generate_a_rectangle(10, True)\n",
    "#plt.imshow(im.reshape(IMAGE_SIZE,IMAGE_SIZE), cmap='gray')\n",
    "#plt.show()\n",
    "\n",
    "#im = generate_a_disk(10)\n",
    "#plt.imshow(im.reshape(IMAGE_SIZE,IMAGE_SIZE), cmap='gray')\n",
    "#plt.show()\n",
    "\n",
    "#[im, v] = generate_a_triangle(20, False)\n",
    "#plt.imshow(im.reshape(IMAGE_SIZE,IMAGE_SIZE), cmap='gray')\n",
    "#plt.show()\n",
    "\n",
    "def generate_dataset_classification(nb_samples, noise=0.0, free_location=False):\n",
    "    # Getting im_size:\n",
    "    im_size = generate_a_rectangle().shape[0]\n",
    "    X = np.zeros([nb_samples,im_size])\n",
    "    Y = np.zeros(nb_samples)\n",
    "    print('Creating data:')\n",
    "    for i in range(nb_samples):\n",
    "        if i % 10 == 0:\n",
    "            print(i)\n",
    "        category = np.random.randint(3)\n",
    "        if category == 0:\n",
    "            X[i] = generate_a_rectangle(noise, free_location)\n",
    "        elif category == 1: \n",
    "            X[i] = generate_a_disk(noise, free_location)\n",
    "        else:\n",
    "            [X[i], V] = generate_a_triangle(noise, free_location)\n",
    "        Y[i] = category\n",
    "    X = (X + noise) / (255 + 2 * noise)\n",
    "    return [X, Y]\n",
    "\n",
    "def generate_test_set_classification():\n",
    "    np.random.seed(42)\n",
    "    [X_test, Y_test] = generate_dataset_classification(300, 20, True)\n",
    "    Y_test = np_utils.to_categorical(Y_test, 3) \n",
    "    return [X_test, Y_test]\n",
    "\n",
    "def generate_dataset_regression(nb_samples, noise=0.0):\n",
    "    # Getting im_size:\n",
    "    im_size = generate_a_triangle()[0].shape[0]\n",
    "    X = np.zeros([nb_samples,im_size])\n",
    "    Y = np.zeros([nb_samples, 6])\n",
    "    print('Creating data:')\n",
    "    for i in range(nb_samples):\n",
    "        if i % 10 == 0:\n",
    "            print(i)\n",
    "        [X[i], Y[i]] = generate_a_triangle(noise, True)\n",
    "    X = (X + noise) / (255 + 2 * noise)\n",
    "    return [X, Y]\n",
    "\n",
    "import matplotlib.patches as patches\n",
    "\n",
    "def visualize_prediction(x, y):\n",
    "    fig, ax = plt.subplots(figsize=(5, 5))\n",
    "    I = x.reshape((IMAGE_SIZE,IMAGE_SIZE))\n",
    "    ax.imshow(I, extent=[-0.15,1.15,-0.15,1.15],cmap='gray')\n",
    "    ax.set_xlim([0,1])\n",
    "    ax.set_ylim([0,1])\n",
    "\n",
    "    xy = y.reshape(3,2)\n",
    "    tri = patches.Polygon(xy, closed=True, fill = False, edgecolor = 'r', linewidth = 5, alpha = 0.5)\n",
    "    ax.add_patch(tri)\n",
    "\n",
    "    plt.show()\n",
    "\n",
    "def generate_test_set_regression():\n",
    "    np.random.seed(42)\n",
    "    [X_test, Y_test] = generate_dataset_regression(300, 20)\n",
    "    return [X_test, Y_test]\n"
   ]
  },
  {
   "cell_type": "markdown",
   "metadata": {},
   "source": [
    "# Simple Classification"
   ]
  },
  {
   "cell_type": "markdown",
   "metadata": {},
   "source": [
    "We generate the geometric shapes. We transform the category list Y_train into a class list."
   ]
  },
  {
   "cell_type": "code",
   "execution_count": 4,
   "metadata": {
    "scrolled": true
   },
   "outputs": [
    {
     "name": "stdout",
     "output_type": "stream",
     "text": [
      "Creating data:\n",
      "0\n",
      "10\n",
      "20\n",
      "30\n",
      "40\n",
      "50\n",
      "60\n",
      "70\n",
      "80\n",
      "90\n",
      "100\n",
      "110\n",
      "120\n",
      "130\n",
      "140\n",
      "150\n",
      "160\n",
      "170\n",
      "180\n",
      "190\n",
      "200\n",
      "210\n",
      "220\n",
      "230\n",
      "240\n",
      "250\n",
      "260\n",
      "270\n",
      "280\n",
      "290\n"
     ]
    }
   ],
   "source": [
    "[X_train, Y_train] = generate_dataset_classification(300, 20)\n",
    "Y_train = np_utils.to_categorical(Y_train, 3) "
   ]
  },
  {
   "cell_type": "markdown",
   "metadata": {},
   "source": [
    "We create a first model, using stochastic gradient descent optimizer."
   ]
  },
  {
   "cell_type": "code",
   "execution_count": 5,
   "metadata": {},
   "outputs": [
    {
     "name": "stdout",
     "output_type": "stream",
     "text": [
      "Epoch 1/100\n",
      "300/300 [==============================] - 0s 919us/step - loss: 4.0704 - acc: 0.3800\n",
      "Epoch 2/100\n",
      "300/300 [==============================] - 0s 113us/step - loss: 2.0185 - acc: 0.5367\n",
      "Epoch 3/100\n",
      "300/300 [==============================] - 0s 103us/step - loss: 0.5939 - acc: 0.7833\n",
      "Epoch 4/100\n",
      "300/300 [==============================] - 0s 93us/step - loss: 0.5821 - acc: 0.8300\n",
      "Epoch 5/100\n",
      "300/300 [==============================] - 0s 93us/step - loss: 0.2142 - acc: 0.8967\n",
      "Epoch 6/100\n",
      "300/300 [==============================] - 0s 106us/step - loss: 0.4460 - acc: 0.8567\n",
      "Epoch 7/100\n",
      "300/300 [==============================] - 0s 113us/step - loss: 0.1648 - acc: 0.9467\n",
      "Epoch 8/100\n",
      "300/300 [==============================] - 0s 120us/step - loss: 0.1301 - acc: 0.9633\n",
      "Epoch 9/100\n",
      "300/300 [==============================] - 0s 143us/step - loss: 0.1006 - acc: 0.9633\n",
      "Epoch 10/100\n",
      "300/300 [==============================] - 0s 120us/step - loss: 0.1106 - acc: 0.9467\n",
      "Epoch 11/100\n",
      "300/300 [==============================] - 0s 126us/step - loss: 0.0848 - acc: 0.9633\n",
      "Epoch 12/100\n",
      "300/300 [==============================] - 0s 133us/step - loss: 0.0750 - acc: 0.9767\n",
      "Epoch 13/100\n",
      "300/300 [==============================] - 0s 146us/step - loss: 0.0612 - acc: 0.9933\n",
      "Epoch 14/100\n",
      "300/300 [==============================] - 0s 133us/step - loss: 0.0529 - acc: 0.9900\n",
      "Epoch 15/100\n",
      "300/300 [==============================] - 0s 106us/step - loss: 0.0556 - acc: 0.9900\n",
      "Epoch 16/100\n",
      "300/300 [==============================] - 0s 136us/step - loss: 0.0480 - acc: 1.0000\n",
      "Epoch 17/100\n",
      "300/300 [==============================] - 0s 96us/step - loss: 0.0434 - acc: 1.0000\n",
      "Epoch 18/100\n",
      "300/300 [==============================] - 0s 133us/step - loss: 0.0487 - acc: 1.0000\n",
      "Epoch 19/100\n",
      "300/300 [==============================] - 0s 106us/step - loss: 0.0382 - acc: 1.0000\n",
      "Epoch 20/100\n",
      "300/300 [==============================] - 0s 110us/step - loss: 0.0418 - acc: 0.9933\n",
      "Epoch 21/100\n",
      "300/300 [==============================] - 0s 120us/step - loss: 0.0417 - acc: 0.9933\n",
      "Epoch 22/100\n",
      "300/300 [==============================] - 0s 110us/step - loss: 0.0334 - acc: 1.0000\n",
      "Epoch 23/100\n",
      "300/300 [==============================] - 0s 123us/step - loss: 0.0330 - acc: 1.0000\n",
      "Epoch 24/100\n",
      "300/300 [==============================] - 0s 113us/step - loss: 0.0349 - acc: 1.0000\n",
      "Epoch 25/100\n",
      "300/300 [==============================] - 0s 123us/step - loss: 0.0323 - acc: 1.0000\n",
      "Epoch 26/100\n",
      "300/300 [==============================] - 0s 110us/step - loss: 0.0339 - acc: 1.0000\n",
      "Epoch 27/100\n",
      "300/300 [==============================] - 0s 123us/step - loss: 0.0393 - acc: 0.9900\n",
      "Epoch 28/100\n",
      "300/300 [==============================] - 0s 100us/step - loss: 0.0286 - acc: 1.0000\n",
      "Epoch 29/100\n",
      "300/300 [==============================] - ETA: 0s - loss: 0.0458 - acc: 1.000 - 0s 113us/step - loss: 0.0276 - acc: 1.0000\n",
      "Epoch 30/100\n",
      "300/300 [==============================] - 0s 120us/step - loss: 0.0266 - acc: 1.0000\n",
      "Epoch 31/100\n",
      "300/300 [==============================] - 0s 103us/step - loss: 0.0257 - acc: 1.0000\n",
      "Epoch 32/100\n",
      "300/300 [==============================] - 0s 123us/step - loss: 0.0288 - acc: 0.9967\n",
      "Epoch 33/100\n",
      "300/300 [==============================] - 0s 110us/step - loss: 0.0223 - acc: 1.0000\n",
      "Epoch 34/100\n",
      "300/300 [==============================] - 0s 100us/step - loss: 0.0232 - acc: 1.0000\n",
      "Epoch 35/100\n",
      "300/300 [==============================] - 0s 103us/step - loss: 0.0256 - acc: 1.0000\n",
      "Epoch 36/100\n",
      "300/300 [==============================] - 0s 110us/step - loss: 0.0199 - acc: 1.0000\n",
      "Epoch 37/100\n",
      "300/300 [==============================] - 0s 143us/step - loss: 0.0220 - acc: 1.0000\n",
      "Epoch 38/100\n",
      "300/300 [==============================] - 0s 106us/step - loss: 0.0206 - acc: 1.0000\n",
      "Epoch 39/100\n",
      "300/300 [==============================] - 0s 100us/step - loss: 0.0224 - acc: 1.0000\n",
      "Epoch 40/100\n",
      "300/300 [==============================] - 0s 116us/step - loss: 0.0203 - acc: 1.0000\n",
      "Epoch 41/100\n",
      "300/300 [==============================] - 0s 113us/step - loss: 0.0197 - acc: 1.0000\n",
      "Epoch 42/100\n",
      "300/300 [==============================] - 0s 116us/step - loss: 0.0194 - acc: 1.0000\n",
      "Epoch 43/100\n",
      "300/300 [==============================] - 0s 106us/step - loss: 0.0204 - acc: 1.0000\n",
      "Epoch 44/100\n",
      "300/300 [==============================] - 0s 130us/step - loss: 0.0184 - acc: 1.0000\n",
      "Epoch 45/100\n",
      "300/300 [==============================] - 0s 103us/step - loss: 0.0199 - acc: 1.0000\n",
      "Epoch 46/100\n",
      "300/300 [==============================] - 0s 103us/step - loss: 0.0163 - acc: 1.0000\n",
      "Epoch 47/100\n",
      "300/300 [==============================] - 0s 113us/step - loss: 0.0167 - acc: 1.0000\n",
      "Epoch 48/100\n",
      "300/300 [==============================] - 0s 116us/step - loss: 0.0172 - acc: 1.0000\n",
      "Epoch 49/100\n",
      "300/300 [==============================] - 0s 103us/step - loss: 0.0160 - acc: 1.0000\n",
      "Epoch 50/100\n",
      "300/300 [==============================] - 0s 123us/step - loss: 0.0176 - acc: 1.0000\n",
      "Epoch 51/100\n",
      "300/300 [==============================] - 0s 106us/step - loss: 0.0162 - acc: 1.0000\n",
      "Epoch 52/100\n",
      "300/300 [==============================] - 0s 120us/step - loss: 0.0152 - acc: 1.0000\n",
      "Epoch 53/100\n",
      "300/300 [==============================] - 0s 110us/step - loss: 0.0152 - acc: 1.0000\n",
      "Epoch 54/100\n",
      "300/300 [==============================] - 0s 123us/step - loss: 0.0168 - acc: 1.0000\n",
      "Epoch 55/100\n",
      "300/300 [==============================] - 0s 103us/step - loss: 0.0143 - acc: 1.0000\n",
      "Epoch 56/100\n",
      "300/300 [==============================] - 0s 103us/step - loss: 0.0140 - acc: 1.0000\n",
      "Epoch 57/100\n",
      "300/300 [==============================] - 0s 103us/step - loss: 0.0152 - acc: 1.0000\n",
      "Epoch 58/100\n",
      "300/300 [==============================] - 0s 93us/step - loss: 0.0144 - acc: 1.0000\n",
      "Epoch 59/100\n",
      "300/300 [==============================] - 0s 80us/step - loss: 0.0132 - acc: 1.0000\n",
      "Epoch 60/100\n",
      "300/300 [==============================] - 0s 110us/step - loss: 0.0132 - acc: 1.0000\n",
      "Epoch 61/100\n",
      "300/300 [==============================] - 0s 136us/step - loss: 0.0131 - acc: 1.0000\n",
      "Epoch 62/100\n",
      "300/300 [==============================] - 0s 103us/step - loss: 0.0132 - acc: 1.0000\n",
      "Epoch 63/100\n",
      "300/300 [==============================] - 0s 90us/step - loss: 0.0129 - acc: 1.0000\n",
      "Epoch 64/100\n",
      "300/300 [==============================] - 0s 93us/step - loss: 0.0128 - acc: 1.0000\n",
      "Epoch 65/100\n",
      "300/300 [==============================] - 0s 100us/step - loss: 0.0121 - acc: 1.0000\n",
      "Epoch 66/100\n",
      "300/300 [==============================] - 0s 106us/step - loss: 0.0132 - acc: 1.0000\n",
      "Epoch 67/100\n",
      "300/300 [==============================] - 0s 103us/step - loss: 0.0119 - acc: 1.0000\n",
      "Epoch 68/100\n",
      "300/300 [==============================] - 0s 123us/step - loss: 0.0116 - acc: 1.0000\n",
      "Epoch 69/100\n",
      "300/300 [==============================] - 0s 110us/step - loss: 0.0114 - acc: 1.0000\n",
      "Epoch 70/100\n",
      "300/300 [==============================] - 0s 113us/step - loss: 0.0115 - acc: 1.0000\n",
      "Epoch 71/100\n",
      "300/300 [==============================] - 0s 120us/step - loss: 0.0116 - acc: 1.0000\n",
      "Epoch 72/100\n",
      "300/300 [==============================] - 0s 120us/step - loss: 0.0118 - acc: 1.0000\n",
      "Epoch 73/100\n",
      "300/300 [==============================] - 0s 103us/step - loss: 0.0113 - acc: 1.0000\n",
      "Epoch 74/100\n",
      "300/300 [==============================] - 0s 90us/step - loss: 0.0108 - acc: 1.0000\n",
      "Epoch 75/100\n",
      "300/300 [==============================] - 0s 90us/step - loss: 0.0108 - acc: 1.0000\n",
      "Epoch 76/100\n",
      "300/300 [==============================] - 0s 96us/step - loss: 0.0105 - acc: 1.0000\n",
      "Epoch 77/100\n",
      "300/300 [==============================] - 0s 93us/step - loss: 0.0124 - acc: 1.0000\n",
      "Epoch 78/100\n",
      "300/300 [==============================] - 0s 123us/step - loss: 0.0103 - acc: 1.0000\n",
      "Epoch 79/100\n",
      "300/300 [==============================] - 0s 123us/step - loss: 0.0110 - acc: 1.0000\n",
      "Epoch 80/100\n",
      "300/300 [==============================] - 0s 100us/step - loss: 0.0101 - acc: 1.0000\n",
      "Epoch 81/100\n",
      "300/300 [==============================] - 0s 110us/step - loss: 0.0099 - acc: 1.0000\n",
      "Epoch 82/100\n",
      "300/300 [==============================] - 0s 110us/step - loss: 0.0096 - acc: 1.0000\n",
      "Epoch 83/100\n"
     ]
    },
    {
     "name": "stdout",
     "output_type": "stream",
     "text": [
      "300/300 [==============================] - 0s 130us/step - loss: 0.0097 - acc: 1.0000\n",
      "Epoch 84/100\n",
      "300/300 [==============================] - 0s 113us/step - loss: 0.0101 - acc: 1.0000\n",
      "Epoch 85/100\n",
      "300/300 [==============================] - 0s 96us/step - loss: 0.0097 - acc: 1.0000\n",
      "Epoch 86/100\n",
      "300/300 [==============================] - 0s 126us/step - loss: 0.0097 - acc: 1.0000\n",
      "Epoch 87/100\n",
      "300/300 [==============================] - 0s 133us/step - loss: 0.0091 - acc: 1.0000\n",
      "Epoch 88/100\n",
      "300/300 [==============================] - 0s 106us/step - loss: 0.0091 - acc: 1.0000\n",
      "Epoch 89/100\n",
      "300/300 [==============================] - 0s 136us/step - loss: 0.0098 - acc: 1.0000\n",
      "Epoch 90/100\n",
      "300/300 [==============================] - 0s 113us/step - loss: 0.0095 - acc: 1.0000\n",
      "Epoch 91/100\n",
      "300/300 [==============================] - 0s 110us/step - loss: 0.0089 - acc: 1.0000\n",
      "Epoch 92/100\n",
      "300/300 [==============================] - 0s 123us/step - loss: 0.0090 - acc: 1.0000\n",
      "Epoch 93/100\n",
      "300/300 [==============================] - 0s 113us/step - loss: 0.0089 - acc: 1.0000\n",
      "Epoch 94/100\n",
      "300/300 [==============================] - 0s 106us/step - loss: 0.0091 - acc: 1.0000\n",
      "Epoch 95/100\n",
      "300/300 [==============================] - 0s 93us/step - loss: 0.0087 - acc: 1.0000\n",
      "Epoch 96/100\n",
      "300/300 [==============================] - 0s 103us/step - loss: 0.0089 - acc: 1.0000\n",
      "Epoch 97/100\n",
      "300/300 [==============================] - 0s 96us/step - loss: 0.0083 - acc: 1.0000\n",
      "Epoch 98/100\n",
      "300/300 [==============================] - 0s 156us/step - loss: 0.0088 - acc: 1.0000\n",
      "Epoch 99/100\n",
      "300/300 [==============================] - 0s 123us/step - loss: 0.0082 - acc: 1.0000\n",
      "Epoch 100/100\n",
      "300/300 [==============================] - 0s 140us/step - loss: 0.0091 - acc: 1.0000\n"
     ]
    },
    {
     "data": {
      "text/plain": [
       "<keras.callbacks.History at 0x1eb93333d30>"
      ]
     },
     "execution_count": 5,
     "metadata": {},
     "output_type": "execute_result"
    }
   ],
   "source": [
    "model = Sequential([Dense(3, input_shape=(5184,)), Activation('softmax')])\n",
    "sgd = SGD(lr=0.003, decay=1e-6, momentum=0.9, nesterov=True)\n",
    "model.compile(loss='categorical_crossentropy', optimizer=sgd, metrics=['accuracy'])\n",
    "model.fit(X_train, Y_train, epochs=100, batch_size=32)"
   ]
  },
  {
   "cell_type": "markdown",
   "metadata": {},
   "source": [
    "We then check our classifier. The prediction are accurate for each geometric shapes."
   ]
  },
  {
   "cell_type": "code",
   "execution_count": 6,
   "metadata": {},
   "outputs": [
    {
     "data": {
      "text/plain": [
       "array([[0., 0., 1.]], dtype=float32)"
      ]
     },
     "execution_count": 6,
     "metadata": {},
     "output_type": "execute_result"
    }
   ],
   "source": [
    "X_test = generate_a_triangle()[0]\n",
    "X_test = X_test.reshape(1, X_test.shape[0])\n",
    "model.predict(X_test)"
   ]
  },
  {
   "cell_type": "code",
   "execution_count": 7,
   "metadata": {},
   "outputs": [
    {
     "data": {
      "text/plain": [
       "array([[1., 0., 0.]], dtype=float32)"
      ]
     },
     "execution_count": 7,
     "metadata": {},
     "output_type": "execute_result"
    }
   ],
   "source": [
    "X_test = generate_a_rectangle()\n",
    "X_test = X_test.reshape(1, X_test.shape[0])\n",
    "model.predict(X_test)"
   ]
  },
  {
   "cell_type": "code",
   "execution_count": 8,
   "metadata": {},
   "outputs": [
    {
     "data": {
      "text/plain": [
       "array([[0., 1., 0.]], dtype=float32)"
      ]
     },
     "execution_count": 8,
     "metadata": {},
     "output_type": "execute_result"
    }
   ],
   "source": [
    "X_test = generate_a_disk()\n",
    "X_test = X_test.reshape(1, X_test.shape[0])\n",
    "model.predict(X_test)"
   ]
  },
  {
   "cell_type": "markdown",
   "metadata": {},
   "source": [
    "Now, we try the Adam optimizer."
   ]
  },
  {
   "cell_type": "code",
   "execution_count": 9,
   "metadata": {
    "scrolled": true
   },
   "outputs": [
    {
     "name": "stdout",
     "output_type": "stream",
     "text": [
      "Epoch 1/100\n",
      "300/300 [==============================] - 0s 552us/step - loss: 1.6453 - acc: 0.3667\n",
      "Epoch 2/100\n",
      "300/300 [==============================] - 0s 123us/step - loss: 0.8092 - acc: 0.6267\n",
      "Epoch 3/100\n",
      "300/300 [==============================] - 0s 116us/step - loss: 0.6637 - acc: 0.6667\n",
      "Epoch 4/100\n",
      "300/300 [==============================] - 0s 120us/step - loss: 0.4171 - acc: 0.8300\n",
      "Epoch 5/100\n",
      "300/300 [==============================] - 0s 116us/step - loss: 0.3185 - acc: 0.9133\n",
      "Epoch 6/100\n",
      "300/300 [==============================] - 0s 106us/step - loss: 0.2490 - acc: 0.9567\n",
      "Epoch 7/100\n",
      "300/300 [==============================] - 0s 130us/step - loss: 0.2393 - acc: 0.9600\n",
      "Epoch 8/100\n",
      "300/300 [==============================] - 0s 130us/step - loss: 0.2056 - acc: 0.9600\n",
      "Epoch 9/100\n",
      "300/300 [==============================] - 0s 133us/step - loss: 0.2240 - acc: 0.9133\n",
      "Epoch 10/100\n",
      "300/300 [==============================] - 0s 130us/step - loss: 0.1856 - acc: 0.9700\n",
      "Epoch 11/100\n",
      "300/300 [==============================] - 0s 126us/step - loss: 0.1724 - acc: 0.9633\n",
      "Epoch 12/100\n",
      "300/300 [==============================] - 0s 130us/step - loss: 0.1391 - acc: 0.9800\n",
      "Epoch 13/100\n",
      "300/300 [==============================] - 0s 143us/step - loss: 0.1383 - acc: 0.9700\n",
      "Epoch 14/100\n",
      "300/300 [==============================] - 0s 123us/step - loss: 0.1254 - acc: 0.9767\n",
      "Epoch 15/100\n",
      "300/300 [==============================] - 0s 120us/step - loss: 0.1204 - acc: 0.9933\n",
      "Epoch 16/100\n",
      "300/300 [==============================] - 0s 130us/step - loss: 0.1008 - acc: 0.9967\n",
      "Epoch 17/100\n",
      "300/300 [==============================] - 0s 136us/step - loss: 0.0908 - acc: 0.9967\n",
      "Epoch 18/100\n",
      "300/300 [==============================] - 0s 136us/step - loss: 0.0911 - acc: 1.0000\n",
      "Epoch 19/100\n",
      "300/300 [==============================] - 0s 123us/step - loss: 0.0834 - acc: 0.9967\n",
      "Epoch 20/100\n",
      "300/300 [==============================] - 0s 120us/step - loss: 0.0987 - acc: 0.9867\n",
      "Epoch 21/100\n",
      "300/300 [==============================] - 0s 133us/step - loss: 0.0741 - acc: 0.9967\n",
      "Epoch 22/100\n",
      "300/300 [==============================] - 0s 130us/step - loss: 0.0689 - acc: 1.0000\n",
      "Epoch 23/100\n",
      "300/300 [==============================] - 0s 106us/step - loss: 0.0624 - acc: 1.0000\n",
      "Epoch 24/100\n",
      "300/300 [==============================] - 0s 106us/step - loss: 0.0598 - acc: 1.0000\n",
      "Epoch 25/100\n",
      "300/300 [==============================] - 0s 120us/step - loss: 0.0549 - acc: 1.0000\n",
      "Epoch 26/100\n",
      "300/300 [==============================] - 0s 106us/step - loss: 0.0537 - acc: 1.0000\n",
      "Epoch 27/100\n",
      "300/300 [==============================] - 0s 116us/step - loss: 0.0490 - acc: 1.0000\n",
      "Epoch 28/100\n",
      "300/300 [==============================] - 0s 116us/step - loss: 0.0463 - acc: 1.0000\n",
      "Epoch 29/100\n",
      "300/300 [==============================] - 0s 133us/step - loss: 0.0480 - acc: 1.0000\n",
      "Epoch 30/100\n",
      "300/300 [==============================] - 0s 143us/step - loss: 0.0436 - acc: 1.0000\n",
      "Epoch 31/100\n",
      "300/300 [==============================] - 0s 143us/step - loss: 0.0416 - acc: 1.0000\n",
      "Epoch 32/100\n",
      "300/300 [==============================] - 0s 126us/step - loss: 0.0410 - acc: 1.0000\n",
      "Epoch 33/100\n",
      "300/300 [==============================] - 0s 150us/step - loss: 0.0373 - acc: 1.0000\n",
      "Epoch 34/100\n",
      "300/300 [==============================] - 0s 153us/step - loss: 0.0351 - acc: 1.0000\n",
      "Epoch 35/100\n",
      "300/300 [==============================] - 0s 146us/step - loss: 0.0348 - acc: 1.0000\n",
      "Epoch 36/100\n",
      "300/300 [==============================] - 0s 126us/step - loss: 0.0348 - acc: 1.0000\n",
      "Epoch 37/100\n",
      "300/300 [==============================] - 0s 136us/step - loss: 0.0317 - acc: 1.0000\n",
      "Epoch 38/100\n",
      "300/300 [==============================] - 0s 120us/step - loss: 0.0307 - acc: 1.0000\n",
      "Epoch 39/100\n",
      "300/300 [==============================] - 0s 123us/step - loss: 0.0300 - acc: 1.0000\n",
      "Epoch 40/100\n",
      "300/300 [==============================] - 0s 106us/step - loss: 0.0310 - acc: 1.0000\n",
      "Epoch 41/100\n",
      "300/300 [==============================] - 0s 100us/step - loss: 0.0283 - acc: 1.0000\n",
      "Epoch 42/100\n",
      "300/300 [==============================] - 0s 100us/step - loss: 0.0279 - acc: 1.0000\n",
      "Epoch 43/100\n",
      "300/300 [==============================] - 0s 110us/step - loss: 0.0257 - acc: 1.0000\n",
      "Epoch 44/100\n",
      "300/300 [==============================] - 0s 113us/step - loss: 0.0249 - acc: 1.0000\n",
      "Epoch 45/100\n",
      "300/300 [==============================] - 0s 110us/step - loss: 0.0244 - acc: 1.0000\n",
      "Epoch 46/100\n",
      "300/300 [==============================] - 0s 113us/step - loss: 0.0246 - acc: 1.0000\n",
      "Epoch 47/100\n",
      "300/300 [==============================] - 0s 110us/step - loss: 0.0232 - acc: 1.0000\n",
      "Epoch 48/100\n",
      "300/300 [==============================] - 0s 146us/step - loss: 0.0216 - acc: 1.0000\n",
      "Epoch 49/100\n",
      "300/300 [==============================] - 0s 110us/step - loss: 0.0211 - acc: 1.0000\n",
      "Epoch 50/100\n",
      "300/300 [==============================] - 0s 110us/step - loss: 0.0206 - acc: 1.0000\n",
      "Epoch 51/100\n",
      "300/300 [==============================] - 0s 133us/step - loss: 0.0197 - acc: 1.0000\n",
      "Epoch 52/100\n",
      "300/300 [==============================] - 0s 126us/step - loss: 0.0194 - acc: 1.0000\n",
      "Epoch 53/100\n",
      "300/300 [==============================] - 0s 113us/step - loss: 0.0192 - acc: 1.0000\n",
      "Epoch 54/100\n",
      "300/300 [==============================] - 0s 123us/step - loss: 0.0187 - acc: 1.0000\n",
      "Epoch 55/100\n",
      "300/300 [==============================] - 0s 103us/step - loss: 0.0215 - acc: 1.0000\n",
      "Epoch 56/100\n",
      "300/300 [==============================] - 0s 143us/step - loss: 0.0182 - acc: 1.0000\n",
      "Epoch 57/100\n",
      "300/300 [==============================] - 0s 126us/step - loss: 0.0195 - acc: 1.0000\n",
      "Epoch 58/100\n",
      "300/300 [==============================] - 0s 110us/step - loss: 0.0163 - acc: 1.0000\n",
      "Epoch 59/100\n",
      "300/300 [==============================] - 0s 123us/step - loss: 0.0155 - acc: 1.0000\n",
      "Epoch 60/100\n",
      "300/300 [==============================] - 0s 116us/step - loss: 0.0157 - acc: 1.0000\n",
      "Epoch 61/100\n",
      "300/300 [==============================] - 0s 140us/step - loss: 0.0152 - acc: 1.0000\n",
      "Epoch 62/100\n",
      "300/300 [==============================] - 0s 116us/step - loss: 0.0146 - acc: 1.0000\n",
      "Epoch 63/100\n",
      "300/300 [==============================] - 0s 110us/step - loss: 0.0140 - acc: 1.0000\n",
      "Epoch 64/100\n",
      "300/300 [==============================] - 0s 126us/step - loss: 0.0139 - acc: 1.0000\n",
      "Epoch 65/100\n",
      "300/300 [==============================] - 0s 130us/step - loss: 0.0135 - acc: 1.0000\n",
      "Epoch 66/100\n",
      "300/300 [==============================] - 0s 126us/step - loss: 0.0132 - acc: 1.0000\n",
      "Epoch 67/100\n",
      "300/300 [==============================] - 0s 116us/step - loss: 0.0134 - acc: 1.0000\n",
      "Epoch 68/100\n",
      "300/300 [==============================] - 0s 110us/step - loss: 0.0126 - acc: 1.0000\n",
      "Epoch 69/100\n",
      "300/300 [==============================] - 0s 113us/step - loss: 0.0124 - acc: 1.0000\n",
      "Epoch 70/100\n",
      "300/300 [==============================] - 0s 156us/step - loss: 0.0123 - acc: 1.0000\n",
      "Epoch 71/100\n",
      "300/300 [==============================] - 0s 120us/step - loss: 0.0121 - acc: 1.0000\n",
      "Epoch 72/100\n",
      "300/300 [==============================] - 0s 106us/step - loss: 0.0116 - acc: 1.0000\n",
      "Epoch 73/100\n",
      "300/300 [==============================] - 0s 116us/step - loss: 0.0116 - acc: 1.0000\n",
      "Epoch 74/100\n",
      "300/300 [==============================] - 0s 123us/step - loss: 0.0113 - acc: 1.0000\n",
      "Epoch 75/100\n",
      "300/300 [==============================] - 0s 96us/step - loss: 0.0108 - acc: 1.0000\n",
      "Epoch 76/100\n",
      "300/300 [==============================] - 0s 103us/step - loss: 0.0112 - acc: 1.0000\n",
      "Epoch 77/100\n",
      "300/300 [==============================] - 0s 113us/step - loss: 0.0106 - acc: 1.0000\n",
      "Epoch 78/100\n",
      "300/300 [==============================] - 0s 106us/step - loss: 0.0107 - acc: 1.0000\n",
      "Epoch 79/100\n",
      "300/300 [==============================] - 0s 103us/step - loss: 0.0105 - acc: 1.0000\n",
      "Epoch 80/100\n",
      "300/300 [==============================] - 0s 96us/step - loss: 0.0100 - acc: 1.0000\n",
      "Epoch 81/100\n",
      "300/300 [==============================] - 0s 106us/step - loss: 0.0096 - acc: 1.0000\n",
      "Epoch 82/100\n",
      "300/300 [==============================] - 0s 110us/step - loss: 0.0096 - acc: 1.0000\n",
      "Epoch 83/100\n"
     ]
    },
    {
     "name": "stdout",
     "output_type": "stream",
     "text": [
      "300/300 [==============================] - 0s 106us/step - loss: 0.0094 - acc: 1.0000\n",
      "Epoch 84/100\n",
      "300/300 [==============================] - 0s 100us/step - loss: 0.0090 - acc: 1.0000\n",
      "Epoch 85/100\n",
      "300/300 [==============================] - 0s 106us/step - loss: 0.0095 - acc: 1.0000\n",
      "Epoch 86/100\n",
      "300/300 [==============================] - 0s 146us/step - loss: 0.0092 - acc: 1.0000\n",
      "Epoch 87/100\n",
      "300/300 [==============================] - 0s 116us/step - loss: 0.0083 - acc: 1.0000\n",
      "Epoch 88/100\n",
      "300/300 [==============================] - 0s 116us/step - loss: 0.0086 - acc: 1.0000\n",
      "Epoch 89/100\n",
      "300/300 [==============================] - 0s 136us/step - loss: 0.0085 - acc: 1.0000\n",
      "Epoch 90/100\n",
      "300/300 [==============================] - 0s 120us/step - loss: 0.0082 - acc: 1.0000\n",
      "Epoch 91/100\n",
      "300/300 [==============================] - 0s 113us/step - loss: 0.0081 - acc: 1.0000\n",
      "Epoch 92/100\n",
      "300/300 [==============================] - 0s 133us/step - loss: 0.0079 - acc: 1.0000\n",
      "Epoch 93/100\n",
      "300/300 [==============================] - 0s 116us/step - loss: 0.0083 - acc: 1.0000\n",
      "Epoch 94/100\n",
      "300/300 [==============================] - 0s 123us/step - loss: 0.0076 - acc: 1.0000\n",
      "Epoch 95/100\n",
      "300/300 [==============================] - 0s 123us/step - loss: 0.0075 - acc: 1.0000\n",
      "Epoch 96/100\n",
      "300/300 [==============================] - 0s 133us/step - loss: 0.0073 - acc: 1.0000\n",
      "Epoch 97/100\n",
      "300/300 [==============================] - 0s 123us/step - loss: 0.0073 - acc: 1.0000\n",
      "Epoch 98/100\n",
      "300/300 [==============================] - 0s 143us/step - loss: 0.0071 - acc: 1.0000\n",
      "Epoch 99/100\n",
      "300/300 [==============================] - 0s 130us/step - loss: 0.0072 - acc: 1.0000\n",
      "Epoch 100/100\n",
      "300/300 [==============================] - 0s 130us/step - loss: 0.0070 - acc: 1.0000\n"
     ]
    },
    {
     "data": {
      "text/plain": [
       "<keras.callbacks.History at 0x1eb8b709518>"
      ]
     },
     "execution_count": 9,
     "metadata": {},
     "output_type": "execute_result"
    }
   ],
   "source": [
    "model2 = Sequential([Dense(3, input_shape=(5184,)), Activation('softmax')])\n",
    "model2.compile(loss='categorical_crossentropy',optimizer='adam',metrics=['accuracy'])\n",
    "model2.fit(X_train, Y_train, batch_size=32, epochs=100)"
   ]
  },
  {
   "cell_type": "markdown",
   "metadata": {},
   "source": [
    "We check this new classifier. It is also accurate for each geometric shape."
   ]
  },
  {
   "cell_type": "code",
   "execution_count": 10,
   "metadata": {},
   "outputs": [
    {
     "data": {
      "text/plain": [
       "array([[0., 1., 0.]], dtype=float32)"
      ]
     },
     "execution_count": 10,
     "metadata": {},
     "output_type": "execute_result"
    }
   ],
   "source": [
    "X_test = generate_a_disk()\n",
    "X_test = X_test.reshape(1, X_test.shape[0])\n",
    "model2.predict(X_test)"
   ]
  },
  {
   "cell_type": "code",
   "execution_count": 11,
   "metadata": {},
   "outputs": [
    {
     "data": {
      "text/plain": [
       "array([[0., 0., 1.]], dtype=float32)"
      ]
     },
     "execution_count": 11,
     "metadata": {},
     "output_type": "execute_result"
    }
   ],
   "source": [
    "X_test = generate_a_triangle()[0]\n",
    "X_test = X_test.reshape(1, X_test.shape[0])\n",
    "model2.predict(X_test)"
   ]
  },
  {
   "cell_type": "code",
   "execution_count": 12,
   "metadata": {},
   "outputs": [
    {
     "data": {
      "text/plain": [
       "array([[1., 0., 0.]], dtype=float32)"
      ]
     },
     "execution_count": 12,
     "metadata": {},
     "output_type": "execute_result"
    }
   ],
   "source": [
    "X_test = generate_a_rectangle()\n",
    "X_test = X_test.reshape(1, X_test.shape[0])\n",
    "model2.predict(X_test)"
   ]
  },
  {
   "cell_type": "markdown",
   "metadata": {},
   "source": [
    "# Visualisation of the solution"
   ]
  },
  {
   "cell_type": "markdown",
   "metadata": {},
   "source": [
    "This is the solution for the SGD optimizer."
   ]
  },
  {
   "cell_type": "code",
   "execution_count": 13,
   "metadata": {},
   "outputs": [],
   "source": [
    "W = model.get_weights()[0]"
   ]
  },
  {
   "cell_type": "code",
   "execution_count": 14,
   "metadata": {
    "scrolled": true
   },
   "outputs": [
    {
     "data": {
      "image/png": "[encoded data removed]",
      "text/plain": [
       "<Figure size 432x288 with 1 Axes>"
      ]
     },
     "metadata": {},
     "output_type": "display_data"
    },
    {
     "data": {
      "image/png": "[encoded data removed]",
      "text/plain": [
       "<Figure size 432x288 with 1 Axes>"
      ]
     },
     "metadata": {},
     "output_type": "display_data"
    },
    {
     "data": {
      "image/png": "[encoded data removed]",
      "text/plain": [
       "<Figure size 432x288 with 1 Axes>"
      ]
     },
     "metadata": {},
     "output_type": "display_data"
    }
   ],
   "source": [
    "plt.imshow(W[:,0].reshape(72,72),cmap='gray')\n",
    "plt.show()\n",
    "\n",
    "plt.imshow(W[:,1].reshape(72,72),cmap='gray')\n",
    "plt.show()\n",
    "\n",
    "plt.imshow(W[:,2].reshape(72,72),cmap='gray')\n",
    "plt.show()"
   ]
  },
  {
   "cell_type": "markdown",
   "metadata": {},
   "source": [
    "This is the solution for the Adam optimizer."
   ]
  },
  {
   "cell_type": "code",
   "execution_count": 15,
   "metadata": {},
   "outputs": [],
   "source": [
    "W2 = model2.get_weights()[0]"
   ]
  },
  {
   "cell_type": "code",
   "execution_count": 16,
   "metadata": {
    "scrolled": true
   },
   "outputs": [
    {
     "data": {
      "image/png": "[encoded data removed]",
      "text/plain": [
       "<Figure size 432x288 with 1 Axes>"
      ]
     },
     "metadata": {},
     "output_type": "display_data"
    },
    {
     "data": {
      "image/png": "[encoded data removed]",
      "text/plain": [
       "<Figure size 432x288 with 1 Axes>"
      ]
     },
     "metadata": {},
     "output_type": "display_data"
    },
    {
     "data": {
      "image/png": "[encoded data removed]",
      "text/plain": [
       "<Figure size 432x288 with 1 Axes>"
      ]
     },
     "metadata": {},
     "output_type": "display_data"
    }
   ],
   "source": [
    "plt.imshow(W2[:,0].reshape(72,72),cmap='gray')\n",
    "plt.show()\n",
    "\n",
    "plt.imshow(W2[:,1].reshape(72,72),cmap='gray')\n",
    "plt.show()\n",
    "\n",
    "plt.imshow(W2[:,2].reshape(72,72),cmap='gray')\n",
    "plt.show()"
   ]
  },
  {
   "cell_type": "markdown",
   "metadata": {},
   "source": [
    "# A more difficult classification problem"
   ]
  },
  {
   "cell_type": "markdown",
   "metadata": {},
   "source": [
    "We now generate geometric shape with random noise and will try to classify the shapes with the previous classifier."
   ]
  },
  {
   "cell_type": "code",
   "execution_count": 17,
   "metadata": {
    "scrolled": true
   },
   "outputs": [
    {
     "name": "stdout",
     "output_type": "stream",
     "text": [
      "Creating data:\n",
      "0\n",
      "10\n",
      "20\n",
      "30\n",
      "40\n",
      "50\n",
      "60\n",
      "70\n",
      "80\n",
      "90\n",
      "100\n",
      "110\n",
      "120\n",
      "130\n",
      "140\n",
      "150\n",
      "160\n",
      "170\n",
      "180\n",
      "190\n",
      "200\n",
      "210\n",
      "220\n",
      "230\n",
      "240\n",
      "250\n",
      "260\n",
      "270\n",
      "280\n",
      "290\n"
     ]
    }
   ],
   "source": [
    "[X_train2, Y_train2] = generate_dataset_classification(300, 20, True)\n",
    "Y_train2 = np_utils.to_categorical(Y_train2, num_classes=3)"
   ]
  },
  {
   "cell_type": "code",
   "execution_count": 18,
   "metadata": {},
   "outputs": [
    {
     "name": "stdout",
     "output_type": "stream",
     "text": [
      "Epoch 1/100\n",
      "300/300 [==============================] - 0s 499us/step - loss: 6.4112 - acc: 0.3600\n",
      "Epoch 2/100\n",
      "300/300 [==============================] - 0s 103us/step - loss: 10.1970 - acc: 0.3667\n",
      "Epoch 3/100\n",
      "300/300 [==============================] - 0s 123us/step - loss: 10.2081 - acc: 0.3667\n",
      "Epoch 4/100\n",
      "300/300 [==============================] - 0s 106us/step - loss: 10.2081 - acc: 0.3667\n",
      "Epoch 5/100\n",
      "300/300 [==============================] - 0s 106us/step - loss: 10.2081 - acc: 0.3667\n",
      "Epoch 6/100\n",
      "300/300 [==============================] - 0s 120us/step - loss: 10.2081 - acc: 0.3667\n",
      "Epoch 7/100\n",
      "300/300 [==============================] - 0s 120us/step - loss: 10.2081 - acc: 0.3667\n",
      "Epoch 8/100\n",
      "300/300 [==============================] - 0s 136us/step - loss: 10.2081 - acc: 0.3667\n",
      "Epoch 9/100\n",
      "300/300 [==============================] - 0s 120us/step - loss: 10.2081 - acc: 0.3667\n",
      "Epoch 10/100\n",
      "300/300 [==============================] - 0s 120us/step - loss: 10.2081 - acc: 0.3667\n",
      "Epoch 11/100\n",
      "300/300 [==============================] - 0s 130us/step - loss: 10.2081 - acc: 0.3667\n",
      "Epoch 12/100\n",
      "300/300 [==============================] - 0s 103us/step - loss: 10.2081 - acc: 0.3667\n",
      "Epoch 13/100\n",
      "300/300 [==============================] - 0s 103us/step - loss: 10.2081 - acc: 0.3667\n",
      "Epoch 14/100\n",
      "300/300 [==============================] - 0s 110us/step - loss: 10.2081 - acc: 0.3667\n",
      "Epoch 15/100\n",
      "300/300 [==============================] - 0s 103us/step - loss: 10.2081 - acc: 0.3667\n",
      "Epoch 16/100\n",
      "300/300 [==============================] - 0s 110us/step - loss: 10.2081 - acc: 0.3667\n",
      "Epoch 17/100\n",
      "300/300 [==============================] - 0s 130us/step - loss: 10.2081 - acc: 0.3667\n",
      "Epoch 18/100\n",
      "300/300 [==============================] - 0s 123us/step - loss: 10.2081 - acc: 0.3667\n",
      "Epoch 19/100\n",
      "300/300 [==============================] - 0s 126us/step - loss: 10.2081 - acc: 0.3667\n",
      "Epoch 20/100\n",
      "300/300 [==============================] - 0s 140us/step - loss: 10.2081 - acc: 0.3667\n",
      "Epoch 21/100\n",
      "300/300 [==============================] - 0s 133us/step - loss: 10.2081 - acc: 0.3667\n",
      "Epoch 22/100\n",
      "300/300 [==============================] - 0s 140us/step - loss: 10.2081 - acc: 0.3667\n",
      "Epoch 23/100\n",
      "300/300 [==============================] - 0s 140us/step - loss: 10.2081 - acc: 0.3667\n",
      "Epoch 24/100\n",
      "300/300 [==============================] - 0s 136us/step - loss: 10.2081 - acc: 0.3667\n",
      "Epoch 25/100\n",
      "300/300 [==============================] - 0s 133us/step - loss: 10.2081 - acc: 0.3667\n",
      "Epoch 26/100\n",
      "300/300 [==============================] - 0s 130us/step - loss: 10.2081 - acc: 0.3667\n",
      "Epoch 27/100\n",
      "300/300 [==============================] - 0s 116us/step - loss: 10.2081 - acc: 0.3667\n",
      "Epoch 28/100\n",
      "300/300 [==============================] - 0s 126us/step - loss: 10.2081 - acc: 0.3667\n",
      "Epoch 29/100\n",
      "300/300 [==============================] - 0s 136us/step - loss: 10.2081 - acc: 0.3667\n",
      "Epoch 30/100\n",
      "300/300 [==============================] - 0s 130us/step - loss: 10.2081 - acc: 0.3667\n",
      "Epoch 31/100\n",
      "300/300 [==============================] - 0s 113us/step - loss: 10.2081 - acc: 0.3667\n",
      "Epoch 32/100\n",
      "300/300 [==============================] - 0s 133us/step - loss: 10.2081 - acc: 0.3667\n",
      "Epoch 33/100\n",
      "300/300 [==============================] - 0s 133us/step - loss: 10.2081 - acc: 0.3667\n",
      "Epoch 34/100\n",
      "300/300 [==============================] - 0s 130us/step - loss: 10.2081 - acc: 0.3667\n",
      "Epoch 35/100\n",
      "300/300 [==============================] - 0s 130us/step - loss: 10.2081 - acc: 0.3667\n",
      "Epoch 36/100\n",
      "300/300 [==============================] - 0s 120us/step - loss: 10.2081 - acc: 0.3667\n",
      "Epoch 37/100\n",
      "300/300 [==============================] - 0s 120us/step - loss: 10.2081 - acc: 0.3667\n",
      "Epoch 38/100\n",
      "300/300 [==============================] - 0s 110us/step - loss: 10.2081 - acc: 0.3667\n",
      "Epoch 39/100\n",
      "300/300 [==============================] - 0s 103us/step - loss: 10.2081 - acc: 0.3667\n",
      "Epoch 40/100\n",
      "300/300 [==============================] - 0s 140us/step - loss: 10.2081 - acc: 0.3667\n",
      "Epoch 41/100\n",
      "300/300 [==============================] - 0s 120us/step - loss: 10.2081 - acc: 0.3667\n",
      "Epoch 42/100\n",
      "300/300 [==============================] - 0s 123us/step - loss: 10.2081 - acc: 0.3667\n",
      "Epoch 43/100\n",
      "300/300 [==============================] - 0s 120us/step - loss: 10.2081 - acc: 0.3667\n",
      "Epoch 44/100\n",
      "300/300 [==============================] - 0s 120us/step - loss: 10.2081 - acc: 0.3667\n",
      "Epoch 45/100\n",
      "300/300 [==============================] - 0s 116us/step - loss: 10.2081 - acc: 0.3667\n",
      "Epoch 46/100\n",
      "300/300 [==============================] - ETA: 0s - loss: 9.0664 - acc: 0.437 - 0s 110us/step - loss: 10.2081 - acc: 0.3667\n",
      "Epoch 47/100\n",
      "300/300 [==============================] - 0s 113us/step - loss: 10.2081 - acc: 0.3667\n",
      "Epoch 48/100\n",
      "300/300 [==============================] - 0s 136us/step - loss: 10.2081 - acc: 0.3667\n",
      "Epoch 49/100\n",
      "300/300 [==============================] - 0s 140us/step - loss: 10.2081 - acc: 0.3667\n",
      "Epoch 50/100\n",
      "300/300 [==============================] - 0s 133us/step - loss: 10.2081 - acc: 0.3667\n",
      "Epoch 51/100\n",
      "300/300 [==============================] - 0s 126us/step - loss: 10.2081 - acc: 0.3667\n",
      "Epoch 52/100\n",
      "300/300 [==============================] - 0s 120us/step - loss: 10.2081 - acc: 0.3667\n",
      "Epoch 53/100\n",
      "300/300 [==============================] - 0s 110us/step - loss: 10.2081 - acc: 0.3667\n",
      "Epoch 54/100\n",
      "300/300 [==============================] - 0s 120us/step - loss: 10.2081 - acc: 0.3667\n",
      "Epoch 55/100\n",
      "300/300 [==============================] - 0s 116us/step - loss: 10.2081 - acc: 0.3667\n",
      "Epoch 56/100\n",
      "300/300 [==============================] - 0s 110us/step - loss: 10.2081 - acc: 0.3667\n",
      "Epoch 57/100\n",
      "300/300 [==============================] - ETA: 0s - loss: 12.0886 - acc: 0.25 - 0s 106us/step - loss: 10.2081 - acc: 0.3667\n",
      "Epoch 58/100\n",
      "300/300 [==============================] - 0s 140us/step - loss: 10.2081 - acc: 0.3667\n",
      "Epoch 59/100\n",
      "300/300 [==============================] - 0s 110us/step - loss: 10.2081 - acc: 0.3667\n",
      "Epoch 60/100\n",
      "300/300 [==============================] - 0s 116us/step - loss: 10.2081 - acc: 0.3667\n",
      "Epoch 61/100\n",
      "300/300 [==============================] - 0s 120us/step - loss: 10.2081 - acc: 0.3667\n",
      "Epoch 62/100\n",
      "300/300 [==============================] - 0s 120us/step - loss: 10.2081 - acc: 0.3667\n",
      "Epoch 63/100\n",
      "300/300 [==============================] - 0s 130us/step - loss: 10.2081 - acc: 0.3667\n",
      "Epoch 64/100\n",
      "300/300 [==============================] - 0s 126us/step - loss: 10.2081 - acc: 0.3667\n",
      "Epoch 65/100\n",
      "300/300 [==============================] - 0s 136us/step - loss: 10.2081 - acc: 0.3667\n",
      "Epoch 66/100\n",
      "300/300 [==============================] - 0s 123us/step - loss: 10.2081 - acc: 0.3667\n",
      "Epoch 67/100\n",
      "300/300 [==============================] - 0s 116us/step - loss: 10.2081 - acc: 0.3667\n",
      "Epoch 68/100\n",
      "300/300 [==============================] - 0s 113us/step - loss: 10.2081 - acc: 0.3667\n",
      "Epoch 69/100\n",
      "300/300 [==============================] - 0s 130us/step - loss: 10.2081 - acc: 0.3667\n",
      "Epoch 70/100\n",
      "300/300 [==============================] - 0s 130us/step - loss: 10.2081 - acc: 0.3667\n",
      "Epoch 71/100\n",
      "300/300 [==============================] - 0s 106us/step - loss: 10.2081 - acc: 0.3667\n",
      "Epoch 72/100\n",
      "300/300 [==============================] - 0s 106us/step - loss: 10.2081 - acc: 0.3667\n",
      "Epoch 73/100\n",
      "300/300 [==============================] - 0s 110us/step - loss: 10.2081 - acc: 0.3667\n",
      "Epoch 74/100\n",
      "300/300 [==============================] - 0s 113us/step - loss: 10.2081 - acc: 0.3667\n",
      "Epoch 75/100\n",
      "300/300 [==============================] - 0s 120us/step - loss: 10.2081 - acc: 0.3667\n",
      "Epoch 76/100\n",
      "300/300 [==============================] - 0s 160us/step - loss: 10.2081 - acc: 0.3667\n",
      "Epoch 77/100\n",
      "300/300 [==============================] - 0s 130us/step - loss: 10.2081 - acc: 0.3667\n",
      "Epoch 78/100\n",
      "300/300 [==============================] - 0s 130us/step - loss: 10.2081 - acc: 0.3667\n",
      "Epoch 79/100\n",
      "300/300 [==============================] - 0s 143us/step - loss: 10.2081 - acc: 0.3667\n",
      "Epoch 80/100\n",
      "300/300 [==============================] - 0s 116us/step - loss: 10.2081 - acc: 0.3667\n",
      "Epoch 81/100\n",
      "300/300 [==============================] - 0s 136us/step - loss: 10.2081 - acc: 0.3667\n",
      "Epoch 82/100\n"
     ]
    },
    {
     "name": "stdout",
     "output_type": "stream",
     "text": [
      "300/300 [==============================] - 0s 116us/step - loss: 10.2081 - acc: 0.3667\n",
      "Epoch 83/100\n",
      "300/300 [==============================] - 0s 110us/step - loss: 10.2081 - acc: 0.3667\n",
      "Epoch 84/100\n",
      "300/300 [==============================] - 0s 113us/step - loss: 10.2081 - acc: 0.3667\n",
      "Epoch 85/100\n",
      "300/300 [==============================] - 0s 116us/step - loss: 10.2081 - acc: 0.3667\n",
      "Epoch 86/100\n",
      "300/300 [==============================] - 0s 103us/step - loss: 10.2081 - acc: 0.3667\n",
      "Epoch 87/100\n",
      "300/300 [==============================] - 0s 106us/step - loss: 10.2081 - acc: 0.3667\n",
      "Epoch 88/100\n",
      "300/300 [==============================] - 0s 103us/step - loss: 10.2081 - acc: 0.3667\n",
      "Epoch 89/100\n",
      "300/300 [==============================] - 0s 106us/step - loss: 10.2081 - acc: 0.3667\n",
      "Epoch 90/100\n",
      "300/300 [==============================] - 0s 120us/step - loss: 10.2081 - acc: 0.3667\n",
      "Epoch 91/100\n",
      "300/300 [==============================] - 0s 126us/step - loss: 10.2081 - acc: 0.3667\n",
      "Epoch 92/100\n",
      "300/300 [==============================] - 0s 150us/step - loss: 10.2081 - acc: 0.3667\n",
      "Epoch 93/100\n",
      "300/300 [==============================] - 0s 123us/step - loss: 10.2081 - acc: 0.3667\n",
      "Epoch 94/100\n",
      "300/300 [==============================] - 0s 130us/step - loss: 10.2081 - acc: 0.3667\n",
      "Epoch 95/100\n",
      "300/300 [==============================] - 0s 123us/step - loss: 10.2081 - acc: 0.3667\n",
      "Epoch 96/100\n",
      "300/300 [==============================] - 0s 130us/step - loss: 10.2081 - acc: 0.3667\n",
      "Epoch 97/100\n",
      "300/300 [==============================] - 0s 113us/step - loss: 10.2081 - acc: 0.3667\n",
      "Epoch 98/100\n",
      "300/300 [==============================] - 0s 126us/step - loss: 10.2081 - acc: 0.3667\n",
      "Epoch 99/100\n",
      "300/300 [==============================] - 0s 113us/step - loss: 10.2081 - acc: 0.3667\n",
      "Epoch 100/100\n",
      "300/300 [==============================] - 0s 113us/step - loss: 10.2081 - acc: 0.3667\n"
     ]
    },
    {
     "data": {
      "text/plain": [
       "<keras.callbacks.History at 0x1eb906787b8>"
      ]
     },
     "execution_count": 18,
     "metadata": {},
     "output_type": "execute_result"
    }
   ],
   "source": [
    "model3 = Sequential([Dense(3, input_shape=(5184,)), Activation('softmax')])\n",
    "sgd = SGD(lr=0.003, decay=1e-6, momentum=0.9, nesterov=True)\n",
    "model3.compile(loss='categorical_crossentropy', optimizer=sgd, metrics=['accuracy'])\n",
    "model3.fit(X_train2, Y_train2, epochs=100, batch_size=32)"
   ]
  },
  {
   "cell_type": "code",
   "execution_count": 19,
   "metadata": {
    "scrolled": true
   },
   "outputs": [
    {
     "name": "stdout",
     "output_type": "stream",
     "text": [
      "Creating data:\n",
      "0\n",
      "10\n",
      "20\n",
      "30\n",
      "40\n",
      "50\n",
      "60\n",
      "70\n",
      "80\n",
      "90\n",
      "100\n",
      "110\n",
      "120\n",
      "130\n",
      "140\n",
      "150\n",
      "160\n",
      "170\n",
      "180\n",
      "190\n",
      "200\n",
      "210\n",
      "220\n",
      "230\n",
      "240\n",
      "250\n",
      "260\n",
      "270\n",
      "280\n",
      "290\n"
     ]
    }
   ],
   "source": [
    "[X_test, Y_test] = generate_test_set_classification()"
   ]
  },
  {
   "cell_type": "code",
   "execution_count": 20,
   "metadata": {},
   "outputs": [
    {
     "name": "stdout",
     "output_type": "stream",
     "text": [
      "300/300 [==============================] - 0s 186us/step\n"
     ]
    },
    {
     "data": {
      "text/plain": [
       "[10.799123980204264, 0.3299999996026357]"
      ]
     },
     "execution_count": 20,
     "metadata": {},
     "output_type": "execute_result"
    }
   ],
   "source": [
    "model3.evaluate(X_test, Y_test)"
   ]
  },
  {
   "cell_type": "markdown",
   "metadata": {},
   "source": [
    "The classifier with SGD seems to be not accurate.\n",
    "We now try with the Adam optimizer."
   ]
  },
  {
   "cell_type": "code",
   "execution_count": 21,
   "metadata": {},
   "outputs": [
    {
     "name": "stdout",
     "output_type": "stream",
     "text": [
      "Epoch 1/100\n",
      "300/300 [==============================] - 0s 718us/step - loss: 2.4931 - acc: 0.3533\n",
      "Epoch 2/100\n",
      "300/300 [==============================] - 0s 130us/step - loss: 1.4850 - acc: 0.3267\n",
      "Epoch 3/100\n",
      "300/300 [==============================] - 0s 116us/step - loss: 1.2139 - acc: 0.4200\n",
      "Epoch 4/100\n",
      "300/300 [==============================] - 0s 100us/step - loss: 1.4732 - acc: 0.4733\n",
      "Epoch 5/100\n",
      "300/300 [==============================] - 0s 116us/step - loss: 1.1264 - acc: 0.4033\n",
      "Epoch 6/100\n",
      "300/300 [==============================] - 0s 116us/step - loss: 1.1127 - acc: 0.5067\n",
      "Epoch 7/100\n",
      "300/300 [==============================] - 0s 103us/step - loss: 0.9887 - acc: 0.5433\n",
      "Epoch 8/100\n",
      "300/300 [==============================] - 0s 136us/step - loss: 0.8827 - acc: 0.5633\n",
      "Epoch 9/100\n",
      "300/300 [==============================] - 0s 106us/step - loss: 0.8682 - acc: 0.5700\n",
      "Epoch 10/100\n",
      "300/300 [==============================] - 0s 116us/step - loss: 0.8581 - acc: 0.6067\n",
      "Epoch 11/100\n",
      "300/300 [==============================] - 0s 123us/step - loss: 0.8703 - acc: 0.5800\n",
      "Epoch 12/100\n",
      "300/300 [==============================] - 0s 106us/step - loss: 1.2114 - acc: 0.5300\n",
      "Epoch 13/100\n",
      "300/300 [==============================] - 0s 140us/step - loss: 1.1395 - acc: 0.5400\n",
      "Epoch 14/100\n",
      "300/300 [==============================] - 0s 123us/step - loss: 0.8817 - acc: 0.5867\n",
      "Epoch 15/100\n",
      "300/300 [==============================] - 0s 123us/step - loss: 0.8662 - acc: 0.5900\n",
      "Epoch 16/100\n",
      "300/300 [==============================] - 0s 100us/step - loss: 0.8085 - acc: 0.6100\n",
      "Epoch 17/100\n",
      "300/300 [==============================] - 0s 143us/step - loss: 0.8919 - acc: 0.5667\n",
      "Epoch 18/100\n",
      "300/300 [==============================] - 0s 113us/step - loss: 0.7364 - acc: 0.6767\n",
      "Epoch 19/100\n",
      "300/300 [==============================] - 0s 123us/step - loss: 0.7656 - acc: 0.6267\n",
      "Epoch 20/100\n",
      "300/300 [==============================] - 0s 156us/step - loss: 0.8686 - acc: 0.6067\n",
      "Epoch 21/100\n",
      "300/300 [==============================] - 0s 120us/step - loss: 1.0394 - acc: 0.5767\n",
      "Epoch 22/100\n",
      "300/300 [==============================] - 0s 123us/step - loss: 0.7723 - acc: 0.6467\n",
      "Epoch 23/100\n",
      "300/300 [==============================] - 0s 133us/step - loss: 0.8676 - acc: 0.6200\n",
      "Epoch 24/100\n",
      "300/300 [==============================] - 0s 130us/step - loss: 1.0375 - acc: 0.6133\n",
      "Epoch 25/100\n",
      "300/300 [==============================] - 0s 136us/step - loss: 0.8780 - acc: 0.5633\n",
      "Epoch 26/100\n",
      "300/300 [==============================] - 0s 116us/step - loss: 0.8727 - acc: 0.6267\n",
      "Epoch 27/100\n",
      "300/300 [==============================] - 0s 120us/step - loss: 0.6980 - acc: 0.6767\n",
      "Epoch 28/100\n",
      "300/300 [==============================] - 0s 120us/step - loss: 0.8089 - acc: 0.6067\n",
      "Epoch 29/100\n",
      "300/300 [==============================] - 0s 130us/step - loss: 0.6990 - acc: 0.6833\n",
      "Epoch 30/100\n",
      "300/300 [==============================] - 0s 106us/step - loss: 0.7843 - acc: 0.6067\n",
      "Epoch 31/100\n",
      "300/300 [==============================] - 0s 120us/step - loss: 0.7446 - acc: 0.6533\n",
      "Epoch 32/100\n",
      "300/300 [==============================] - 0s 130us/step - loss: 0.6662 - acc: 0.6733\n",
      "Epoch 33/100\n",
      "300/300 [==============================] - 0s 153us/step - loss: 0.6201 - acc: 0.7133\n",
      "Epoch 34/100\n",
      "300/300 [==============================] - 0s 126us/step - loss: 0.5848 - acc: 0.7633\n",
      "Epoch 35/100\n",
      "300/300 [==============================] - 0s 133us/step - loss: 0.6419 - acc: 0.6833\n",
      "Epoch 36/100\n",
      "300/300 [==============================] - 0s 116us/step - loss: 0.6228 - acc: 0.7200\n",
      "Epoch 37/100\n",
      "300/300 [==============================] - 0s 110us/step - loss: 0.6990 - acc: 0.6633\n",
      "Epoch 38/100\n",
      "300/300 [==============================] - 0s 123us/step - loss: 0.8621 - acc: 0.6033\n",
      "Epoch 39/100\n",
      "300/300 [==============================] - 0s 143us/step - loss: 0.7367 - acc: 0.6367\n",
      "Epoch 40/100\n",
      "300/300 [==============================] - 0s 110us/step - loss: 0.6611 - acc: 0.6700\n",
      "Epoch 41/100\n",
      "300/300 [==============================] - 0s 110us/step - loss: 0.6509 - acc: 0.6700\n",
      "Epoch 42/100\n",
      "300/300 [==============================] - 0s 123us/step - loss: 0.6512 - acc: 0.7233\n",
      "Epoch 43/100\n",
      "300/300 [==============================] - 0s 113us/step - loss: 0.5444 - acc: 0.8000\n",
      "Epoch 44/100\n",
      "300/300 [==============================] - 0s 123us/step - loss: 0.5698 - acc: 0.7367\n",
      "Epoch 45/100\n",
      "300/300 [==============================] - 0s 96us/step - loss: 0.5837 - acc: 0.7433\n",
      "Epoch 46/100\n",
      "300/300 [==============================] - 0s 86us/step - loss: 0.5715 - acc: 0.7400\n",
      "Epoch 47/100\n",
      "300/300 [==============================] - ETA: 0s - loss: 0.6422 - acc: 0.687 - 0s 120us/step - loss: 0.5595 - acc: 0.7400\n",
      "Epoch 48/100\n",
      "300/300 [==============================] - 0s 116us/step - loss: 0.5413 - acc: 0.8100\n",
      "Epoch 49/100\n",
      "300/300 [==============================] - 0s 126us/step - loss: 0.5191 - acc: 0.7867\n",
      "Epoch 50/100\n",
      "300/300 [==============================] - 0s 110us/step - loss: 0.6924 - acc: 0.6700\n",
      "Epoch 51/100\n",
      "300/300 [==============================] - 0s 123us/step - loss: 0.7091 - acc: 0.7100\n",
      "Epoch 52/100\n",
      "300/300 [==============================] - 0s 123us/step - loss: 0.5947 - acc: 0.7367\n",
      "Epoch 53/100\n",
      "300/300 [==============================] - 0s 110us/step - loss: 0.6257 - acc: 0.7233\n",
      "Epoch 54/100\n",
      "300/300 [==============================] - 0s 126us/step - loss: 0.6505 - acc: 0.7200\n",
      "Epoch 55/100\n",
      "300/300 [==============================] - 0s 116us/step - loss: 0.7047 - acc: 0.6600\n",
      "Epoch 56/100\n",
      "300/300 [==============================] - 0s 113us/step - loss: 0.5379 - acc: 0.8133\n",
      "Epoch 57/100\n",
      "300/300 [==============================] - 0s 116us/step - loss: 0.4918 - acc: 0.8067\n",
      "Epoch 58/100\n",
      "300/300 [==============================] - 0s 103us/step - loss: 0.4983 - acc: 0.7867\n",
      "Epoch 59/100\n",
      "300/300 [==============================] - 0s 110us/step - loss: 0.6044 - acc: 0.7067\n",
      "Epoch 60/100\n",
      "300/300 [==============================] - 0s 110us/step - loss: 0.5345 - acc: 0.7633\n",
      "Epoch 61/100\n",
      "300/300 [==============================] - 0s 116us/step - loss: 0.5051 - acc: 0.8067\n",
      "Epoch 62/100\n",
      "300/300 [==============================] - 0s 106us/step - loss: 0.5514 - acc: 0.7333\n",
      "Epoch 63/100\n",
      "300/300 [==============================] - 0s 90us/step - loss: 0.5083 - acc: 0.7900\n",
      "Epoch 64/100\n",
      "300/300 [==============================] - 0s 93us/step - loss: 0.5341 - acc: 0.7500\n",
      "Epoch 65/100\n",
      "300/300 [==============================] - 0s 96us/step - loss: 0.5826 - acc: 0.7300\n",
      "Epoch 66/100\n",
      "300/300 [==============================] - 0s 110us/step - loss: 0.5134 - acc: 0.7700\n",
      "Epoch 67/100\n",
      "300/300 [==============================] - 0s 103us/step - loss: 0.5522 - acc: 0.7433\n",
      "Epoch 68/100\n",
      "300/300 [==============================] - 0s 110us/step - loss: 0.4914 - acc: 0.8033\n",
      "Epoch 69/100\n",
      "300/300 [==============================] - 0s 120us/step - loss: 0.5037 - acc: 0.7933\n",
      "Epoch 70/100\n",
      "300/300 [==============================] - 0s 116us/step - loss: 0.4605 - acc: 0.8400\n",
      "Epoch 71/100\n",
      "300/300 [==============================] - 0s 123us/step - loss: 0.4737 - acc: 0.8000\n",
      "Epoch 72/100\n",
      "300/300 [==============================] - 0s 133us/step - loss: 0.4450 - acc: 0.8400\n",
      "Epoch 73/100\n",
      "300/300 [==============================] - 0s 110us/step - loss: 0.5066 - acc: 0.7700\n",
      "Epoch 74/100\n",
      "300/300 [==============================] - 0s 113us/step - loss: 0.5497 - acc: 0.7567\n",
      "Epoch 75/100\n",
      "300/300 [==============================] - 0s 116us/step - loss: 0.6426 - acc: 0.7000\n",
      "Epoch 76/100\n",
      "300/300 [==============================] - 0s 120us/step - loss: 0.6679 - acc: 0.6867\n",
      "Epoch 77/100\n",
      "300/300 [==============================] - 0s 133us/step - loss: 0.6227 - acc: 0.7367\n",
      "Epoch 78/100\n",
      "300/300 [==============================] - 0s 113us/step - loss: 0.5693 - acc: 0.7533\n",
      "Epoch 79/100\n",
      "300/300 [==============================] - 0s 106us/step - loss: 0.5263 - acc: 0.7733\n",
      "Epoch 80/100\n",
      "300/300 [==============================] - 0s 86us/step - loss: 0.4948 - acc: 0.8133\n",
      "Epoch 81/100\n",
      "300/300 [==============================] - 0s 103us/step - loss: 0.4555 - acc: 0.8400\n",
      "Epoch 82/100\n",
      "300/300 [==============================] - 0s 106us/step - loss: 0.5731 - acc: 0.7467\n",
      "Epoch 83/100\n"
     ]
    },
    {
     "name": "stdout",
     "output_type": "stream",
     "text": [
      "300/300 [==============================] - 0s 126us/step - loss: 0.4877 - acc: 0.8000\n",
      "Epoch 84/100\n",
      "300/300 [==============================] - 0s 126us/step - loss: 0.5433 - acc: 0.7700\n",
      "Epoch 85/100\n",
      "300/300 [==============================] - 0s 136us/step - loss: 0.5162 - acc: 0.7500\n",
      "Epoch 86/100\n",
      "300/300 [==============================] - 0s 106us/step - loss: 0.4506 - acc: 0.8333\n",
      "Epoch 87/100\n",
      "300/300 [==============================] - 0s 120us/step - loss: 0.4223 - acc: 0.8333\n",
      "Epoch 88/100\n",
      "300/300 [==============================] - 0s 106us/step - loss: 0.4220 - acc: 0.8367\n",
      "Epoch 89/100\n",
      "300/300 [==============================] - 0s 136us/step - loss: 0.4613 - acc: 0.7933\n",
      "Epoch 90/100\n",
      "300/300 [==============================] - 0s 126us/step - loss: 0.4911 - acc: 0.7567\n",
      "Epoch 91/100\n",
      "300/300 [==============================] - 0s 120us/step - loss: 0.5320 - acc: 0.7467\n",
      "Epoch 92/100\n",
      "300/300 [==============================] - 0s 133us/step - loss: 0.4360 - acc: 0.8367\n",
      "Epoch 93/100\n",
      "300/300 [==============================] - 0s 113us/step - loss: 0.4877 - acc: 0.7700\n",
      "Epoch 94/100\n",
      "300/300 [==============================] - 0s 130us/step - loss: 0.4244 - acc: 0.8633\n",
      "Epoch 95/100\n",
      "300/300 [==============================] - 0s 113us/step - loss: 0.4529 - acc: 0.8200\n",
      "Epoch 96/100\n",
      "300/300 [==============================] - 0s 113us/step - loss: 0.4270 - acc: 0.8533\n",
      "Epoch 97/100\n",
      "300/300 [==============================] - 0s 140us/step - loss: 0.4130 - acc: 0.8433\n",
      "Epoch 98/100\n",
      "300/300 [==============================] - 0s 113us/step - loss: 0.4377 - acc: 0.8233\n",
      "Epoch 99/100\n",
      "300/300 [==============================] - 0s 113us/step - loss: 0.4196 - acc: 0.8500\n",
      "Epoch 100/100\n",
      "300/300 [==============================] - 0s 110us/step - loss: 0.4561 - acc: 0.8067\n"
     ]
    },
    {
     "data": {
      "text/plain": [
       "<keras.callbacks.History at 0x1eb90356860>"
      ]
     },
     "execution_count": 21,
     "metadata": {},
     "output_type": "execute_result"
    }
   ],
   "source": [
    "model4 = Sequential([Dense(3, input_shape=(5184,)), Activation('softmax')])\n",
    "model4.compile(loss='categorical_crossentropy',optimizer='adam',metrics=['accuracy'])\n",
    "model4.fit(X_train2, Y_train2, batch_size=32, epochs=100)"
   ]
  },
  {
   "cell_type": "code",
   "execution_count": 22,
   "metadata": {},
   "outputs": [
    {
     "name": "stdout",
     "output_type": "stream",
     "text": [
      "300/300 [==============================] - 0s 199us/step\n"
     ]
    },
    {
     "data": {
      "text/plain": [
       "[1.0775439516703287, 0.5666666666666667]"
      ]
     },
     "execution_count": 22,
     "metadata": {},
     "output_type": "execute_result"
    }
   ],
   "source": [
    "model4.evaluate(X_test, Y_test)"
   ]
  },
  {
   "cell_type": "markdown",
   "metadata": {},
   "source": [
    "We have more accuracy with the Adam optimizer but the classifier still is not efficient enough."
   ]
  },
  {
   "cell_type": "markdown",
   "metadata": {},
   "source": [
    "We will then try a convolutional network."
   ]
  },
  {
   "cell_type": "code",
   "execution_count": 23,
   "metadata": {
    "scrolled": true
   },
   "outputs": [
    {
     "name": "stdout",
     "output_type": "stream",
     "text": [
      "Epoch 1/100\n",
      "300/300 [==============================] - 1s 4ms/step - loss: 1.1774 - acc: 0.4033\n",
      "Epoch 2/100\n",
      "300/300 [==============================] - 1s 3ms/step - loss: 0.9503 - acc: 0.5367\n",
      "Epoch 3/100\n",
      "300/300 [==============================] - 1s 3ms/step - loss: 0.7829 - acc: 0.7933\n",
      "Epoch 4/100\n",
      "300/300 [==============================] - 1s 3ms/step - loss: 0.6471 - acc: 0.7900\n",
      "Epoch 5/100\n",
      "300/300 [==============================] - 1s 3ms/step - loss: 0.5609 - acc: 0.8033\n",
      "Epoch 6/100\n",
      "300/300 [==============================] - 1s 3ms/step - loss: 0.5051 - acc: 0.8233\n",
      "Epoch 7/100\n",
      "300/300 [==============================] - 1s 3ms/step - loss: 0.4282 - acc: 0.8967\n",
      "Epoch 8/100\n",
      "300/300 [==============================] - 1s 3ms/step - loss: 0.4184 - acc: 0.8700\n",
      "Epoch 9/100\n",
      "300/300 [==============================] - 1s 3ms/step - loss: 0.3667 - acc: 0.9067\n",
      "Epoch 10/100\n",
      "300/300 [==============================] - 1s 3ms/step - loss: 0.3392 - acc: 0.9033\n",
      "Epoch 11/100\n",
      "300/300 [==============================] - 1s 3ms/step - loss: 0.3299 - acc: 0.9100\n",
      "Epoch 12/100\n",
      "300/300 [==============================] - 1s 3ms/step - loss: 0.2915 - acc: 0.9400\n",
      "Epoch 13/100\n",
      "300/300 [==============================] - 1s 3ms/step - loss: 0.2595 - acc: 0.9433\n",
      "Epoch 14/100\n",
      "300/300 [==============================] - 1s 3ms/step - loss: 0.2318 - acc: 0.9633\n",
      "Epoch 15/100\n",
      "300/300 [==============================] - 1s 3ms/step - loss: 0.2140 - acc: 0.9733\n",
      "Epoch 16/100\n",
      "300/300 [==============================] - 1s 3ms/step - loss: 0.1982 - acc: 0.9733\n",
      "Epoch 17/100\n",
      "300/300 [==============================] - 1s 3ms/step - loss: 0.1852 - acc: 0.9800\n",
      "Epoch 18/100\n",
      "300/300 [==============================] - 1s 3ms/step - loss: 0.1788 - acc: 0.9700\n",
      "Epoch 19/100\n",
      "300/300 [==============================] - 1s 3ms/step - loss: 0.1633 - acc: 0.9833\n",
      "Epoch 20/100\n",
      "300/300 [==============================] - 1s 3ms/step - loss: 0.1494 - acc: 0.9833\n",
      "Epoch 21/100\n",
      "300/300 [==============================] - 1s 3ms/step - loss: 0.1354 - acc: 0.9867\n",
      "Epoch 22/100\n",
      "300/300 [==============================] - 1s 3ms/step - loss: 0.1278 - acc: 0.9867\n",
      "Epoch 23/100\n",
      "300/300 [==============================] - 1s 3ms/step - loss: 0.1191 - acc: 0.9867\n",
      "Epoch 24/100\n",
      "300/300 [==============================] - 1s 3ms/step - loss: 0.1154 - acc: 0.9933\n",
      "Epoch 25/100\n",
      "300/300 [==============================] - 1s 3ms/step - loss: 0.1052 - acc: 0.9967\n",
      "Epoch 26/100\n",
      "300/300 [==============================] - 1s 3ms/step - loss: 0.1013 - acc: 0.9833\n",
      "Epoch 27/100\n",
      "300/300 [==============================] - 1s 3ms/step - loss: 0.0993 - acc: 0.9933\n",
      "Epoch 28/100\n",
      "300/300 [==============================] - 1s 3ms/step - loss: 0.0913 - acc: 0.9933\n",
      "Epoch 29/100\n",
      "300/300 [==============================] - 1s 3ms/step - loss: 0.0798 - acc: 0.9967\n",
      "Epoch 30/100\n",
      "300/300 [==============================] - 1s 3ms/step - loss: 0.0779 - acc: 0.9933\n",
      "Epoch 31/100\n",
      "300/300 [==============================] - 1s 3ms/step - loss: 0.0718 - acc: 0.9967\n",
      "Epoch 32/100\n",
      "300/300 [==============================] - 1s 3ms/step - loss: 0.0714 - acc: 0.9933\n",
      "Epoch 33/100\n",
      "300/300 [==============================] - 1s 3ms/step - loss: 0.0720 - acc: 0.9967\n",
      "Epoch 34/100\n",
      "300/300 [==============================] - 1s 3ms/step - loss: 0.0598 - acc: 1.0000\n",
      "Epoch 35/100\n",
      "300/300 [==============================] - 1s 3ms/step - loss: 0.0572 - acc: 1.0000\n",
      "Epoch 36/100\n",
      "300/300 [==============================] - 1s 3ms/step - loss: 0.0537 - acc: 1.0000\n",
      "Epoch 37/100\n",
      "300/300 [==============================] - 1s 3ms/step - loss: 0.0507 - acc: 1.0000\n",
      "Epoch 38/100\n",
      "300/300 [==============================] - 1s 3ms/step - loss: 0.0500 - acc: 1.0000\n",
      "Epoch 39/100\n",
      "300/300 [==============================] - 1s 3ms/step - loss: 0.0455 - acc: 1.0000\n",
      "Epoch 40/100\n",
      "300/300 [==============================] - 1s 3ms/step - loss: 0.0435 - acc: 1.0000\n",
      "Epoch 41/100\n",
      "300/300 [==============================] - 1s 3ms/step - loss: 0.0426 - acc: 1.0000\n",
      "Epoch 42/100\n",
      "300/300 [==============================] - 1s 3ms/step - loss: 0.0397 - acc: 1.0000\n",
      "Epoch 43/100\n",
      "300/300 [==============================] - 1s 3ms/step - loss: 0.0382 - acc: 1.0000\n",
      "Epoch 44/100\n",
      "300/300 [==============================] - 1s 3ms/step - loss: 0.0418 - acc: 1.0000\n",
      "Epoch 45/100\n",
      "300/300 [==============================] - 1s 3ms/step - loss: 0.0359 - acc: 1.0000\n",
      "Epoch 46/100\n",
      "300/300 [==============================] - 1s 3ms/step - loss: 0.0374 - acc: 1.0000\n",
      "Epoch 47/100\n",
      "300/300 [==============================] - 1s 3ms/step - loss: 0.0312 - acc: 1.0000\n",
      "Epoch 48/100\n",
      "300/300 [==============================] - 1s 3ms/step - loss: 0.0324 - acc: 1.0000\n",
      "Epoch 49/100\n",
      "300/300 [==============================] - 1s 3ms/step - loss: 0.0294 - acc: 1.0000\n",
      "Epoch 50/100\n",
      "300/300 [==============================] - 1s 3ms/step - loss: 0.0282 - acc: 1.0000\n",
      "Epoch 51/100\n",
      "300/300 [==============================] - 1s 3ms/step - loss: 0.0276 - acc: 1.0000\n",
      "Epoch 52/100\n",
      "300/300 [==============================] - 1s 3ms/step - loss: 0.0268 - acc: 1.0000\n",
      "Epoch 53/100\n",
      "300/300 [==============================] - 1s 3ms/step - loss: 0.0256 - acc: 1.0000\n",
      "Epoch 54/100\n",
      "300/300 [==============================] - 1s 3ms/step - loss: 0.0261 - acc: 1.0000\n",
      "Epoch 55/100\n",
      "300/300 [==============================] - 1s 3ms/step - loss: 0.0233 - acc: 1.0000\n",
      "Epoch 56/100\n",
      "300/300 [==============================] - 1s 3ms/step - loss: 0.0230 - acc: 1.0000\n",
      "Epoch 57/100\n",
      "300/300 [==============================] - 1s 3ms/step - loss: 0.0223 - acc: 1.0000\n",
      "Epoch 58/100\n",
      "300/300 [==============================] - 1s 3ms/step - loss: 0.0204 - acc: 1.0000\n",
      "Epoch 59/100\n",
      "300/300 [==============================] - 1s 3ms/step - loss: 0.0198 - acc: 1.0000\n",
      "Epoch 60/100\n",
      "300/300 [==============================] - 1s 3ms/step - loss: 0.0199 - acc: 1.0000A: 0s - loss: 0.0200 - acc: 1.\n",
      "Epoch 61/100\n",
      "300/300 [==============================] - 1s 3ms/step - loss: 0.0195 - acc: 1.0000\n",
      "Epoch 62/100\n",
      "300/300 [==============================] - 1s 3ms/step - loss: 0.0181 - acc: 1.0000\n",
      "Epoch 63/100\n",
      "300/300 [==============================] - 1s 3ms/step - loss: 0.0171 - acc: 1.0000\n",
      "Epoch 64/100\n",
      "300/300 [==============================] - 1s 3ms/step - loss: 0.0166 - acc: 1.0000\n",
      "Epoch 65/100\n",
      "300/300 [==============================] - 1s 3ms/step - loss: 0.0172 - acc: 1.0000\n",
      "Epoch 66/100\n",
      "300/300 [==============================] - 1s 3ms/step - loss: 0.0163 - acc: 1.0000\n",
      "Epoch 67/100\n",
      "300/300 [==============================] - 1s 3ms/step - loss: 0.0175 - acc: 1.0000\n",
      "Epoch 68/100\n",
      "300/300 [==============================] - 1s 3ms/step - loss: 0.0150 - acc: 1.0000A: 0s - loss: 0.0145 - acc: 1.0\n",
      "Epoch 69/100\n",
      "300/300 [==============================] - 1s 3ms/step - loss: 0.0143 - acc: 1.0000\n",
      "Epoch 70/100\n",
      "300/300 [==============================] - 1s 3ms/step - loss: 0.0138 - acc: 1.0000\n",
      "Epoch 71/100\n",
      "300/300 [==============================] - 1s 3ms/step - loss: 0.0140 - acc: 1.0000\n",
      "Epoch 72/100\n",
      "300/300 [==============================] - 1s 3ms/step - loss: 0.0134 - acc: 1.0000\n",
      "Epoch 73/100\n",
      "300/300 [==============================] - 1s 3ms/step - loss: 0.0123 - acc: 1.0000\n",
      "Epoch 74/100\n",
      "300/300 [==============================] - 1s 3ms/step - loss: 0.0120 - acc: 1.0000\n",
      "Epoch 75/100\n",
      "300/300 [==============================] - 1s 3ms/step - loss: 0.0123 - acc: 1.0000\n",
      "Epoch 76/100\n",
      "300/300 [==============================] - 1s 3ms/step - loss: 0.0115 - acc: 1.0000\n",
      "Epoch 77/100\n",
      "300/300 [==============================] - 1s 3ms/step - loss: 0.0110 - acc: 1.0000\n",
      "Epoch 78/100\n",
      "300/300 [==============================] - 1s 3ms/step - loss: 0.0106 - acc: 1.0000\n",
      "Epoch 79/100\n",
      "300/300 [==============================] - 1s 3ms/step - loss: 0.0104 - acc: 1.0000\n",
      "Epoch 80/100\n",
      "300/300 [==============================] - 1s 3ms/step - loss: 0.0101 - acc: 1.0000\n",
      "Epoch 81/100\n",
      "300/300 [==============================] - 1s 3ms/step - loss: 0.0099 - acc: 1.0000\n",
      "Epoch 82/100\n",
      "300/300 [==============================] - 1s 3ms/step - loss: 0.0106 - acc: 1.0000\n",
      "Epoch 83/100\n",
      "300/300 [==============================] - 1s 3ms/step - loss: 0.0125 - acc: 1.0000\n",
      "Epoch 84/100\n"
     ]
    },
    {
     "name": "stdout",
     "output_type": "stream",
     "text": [
      "300/300 [==============================] - 1s 3ms/step - loss: 0.0099 - acc: 1.0000\n",
      "Epoch 85/100\n",
      "300/300 [==============================] - 1s 3ms/step - loss: 0.0089 - acc: 1.0000\n",
      "Epoch 86/100\n",
      "300/300 [==============================] - 1s 3ms/step - loss: 0.0086 - acc: 1.0000\n",
      "Epoch 87/100\n",
      "300/300 [==============================] - 1s 3ms/step - loss: 0.0088 - acc: 1.0000\n",
      "Epoch 88/100\n",
      "300/300 [==============================] - 1s 3ms/step - loss: 0.0080 - acc: 1.0000\n",
      "Epoch 89/100\n",
      "300/300 [==============================] - 1s 3ms/step - loss: 0.0087 - acc: 1.0000\n",
      "Epoch 90/100\n",
      "300/300 [==============================] - 1s 3ms/step - loss: 0.0081 - acc: 1.0000\n",
      "Epoch 91/100\n",
      "300/300 [==============================] - 1s 3ms/step - loss: 0.0078 - acc: 1.0000\n",
      "Epoch 92/100\n",
      "300/300 [==============================] - 1s 3ms/step - loss: 0.0074 - acc: 1.0000\n",
      "Epoch 93/100\n",
      "300/300 [==============================] - 1s 3ms/step - loss: 0.0073 - acc: 1.0000\n",
      "Epoch 94/100\n",
      "300/300 [==============================] - 1s 3ms/step - loss: 0.0075 - acc: 1.0000\n",
      "Epoch 95/100\n",
      "300/300 [==============================] - 1s 3ms/step - loss: 0.0072 - acc: 1.0000\n",
      "Epoch 96/100\n",
      "300/300 [==============================] - 1s 3ms/step - loss: 0.0067 - acc: 1.0000\n",
      "Epoch 97/100\n",
      "300/300 [==============================] - 1s 3ms/step - loss: 0.0069 - acc: 1.0000\n",
      "Epoch 98/100\n",
      "300/300 [==============================] - 1s 3ms/step - loss: 0.0066 - acc: 1.0000\n",
      "Epoch 99/100\n",
      "300/300 [==============================] - 1s 3ms/step - loss: 0.0065 - acc: 1.0000\n",
      "Epoch 100/100\n",
      "300/300 [==============================] - 1s 3ms/step - loss: 0.0062 - acc: 1.0000\n"
     ]
    },
    {
     "data": {
      "text/plain": [
       "<keras.callbacks.History at 0x1eb91d90be0>"
      ]
     },
     "execution_count": 23,
     "metadata": {},
     "output_type": "execute_result"
    }
   ],
   "source": [
    "X_train2 = X_train2.reshape(X_train2.shape[0],72,72,1)\n",
    "model5 = Sequential()\n",
    "model5.add(Conv2D(16, (5, 5), activation='relu',input_shape=(72, 72, 1)))\n",
    "model5.add(MaxPooling2D(pool_size=(2, 2)))\n",
    "model5.add(Flatten())\n",
    "model5.add(Dense(3,activation='softmax'))\n",
    "model5.compile(loss='categorical_crossentropy',optimizer='adam',metrics=['accuracy'])\n",
    "model5.fit(X_train2, Y_train2,batch_size=32, epochs=100)"
   ]
  },
  {
   "cell_type": "code",
   "execution_count": 24,
   "metadata": {},
   "outputs": [],
   "source": [
    "X_test = X_test.reshape(X_test.shape[0],72,72,1)"
   ]
  },
  {
   "cell_type": "code",
   "execution_count": 25,
   "metadata": {},
   "outputs": [
    {
     "name": "stdout",
     "output_type": "stream",
     "text": [
      "300/300 [==============================] - 0s 2ms/step\n"
     ]
    },
    {
     "data": {
      "text/plain": [
       "[1.14033105691274, 0.6766666674613953]"
      ]
     },
     "execution_count": 25,
     "metadata": {},
     "output_type": "execute_result"
    }
   ],
   "source": [
    "model5.evaluate(X_test,Y_test)"
   ]
  },
  {
   "cell_type": "markdown",
   "metadata": {},
   "source": [
    "The classification is now more accurate."
   ]
  },
  {
   "cell_type": "markdown",
   "metadata": {},
   "source": [
    "# A regression problem"
   ]
  },
  {
   "cell_type": "markdown",
   "metadata": {},
   "source": [
    "I did not find a solution to this problem. What follows is my attempt."
   ]
  },
  {
   "cell_type": "markdown",
   "metadata": {},
   "source": [
    "First, we generate and visualize the data."
   ]
  },
  {
   "cell_type": "code",
   "execution_count": 26,
   "metadata": {
    "scrolled": true
   },
   "outputs": [
    {
     "name": "stdout",
     "output_type": "stream",
     "text": [
      "Creating data:\n",
      "0\n",
      "10\n",
      "20\n",
      "30\n",
      "40\n",
      "50\n",
      "60\n",
      "70\n",
      "80\n",
      "90\n",
      "100\n",
      "110\n",
      "120\n",
      "130\n",
      "140\n",
      "150\n",
      "160\n",
      "170\n",
      "180\n",
      "190\n",
      "200\n",
      "210\n",
      "220\n",
      "230\n",
      "240\n",
      "250\n",
      "260\n",
      "270\n",
      "280\n",
      "290\n"
     ]
    }
   ],
   "source": [
    "[X_train3, Y_train3] = generate_dataset_regression(300, 20)"
   ]
  },
  {
   "cell_type": "code",
   "execution_count": 27,
   "metadata": {
    "scrolled": false
   },
   "outputs": [
    {
     "data": {
      "image/png": "[encoded data removed]",
      "text/plain": [
       "<Figure size 360x360 with 1 Axes>"
      ]
     },
     "metadata": {},
     "output_type": "display_data"
    }
   ],
   "source": [
    "visualize_prediction(X_train3[0], Y_train3[0])"
   ]
  },
  {
   "cell_type": "code",
   "execution_count": 28,
   "metadata": {
    "scrolled": true
   },
   "outputs": [
    {
     "name": "stdout",
     "output_type": "stream",
     "text": [
      "Creating data:\n",
      "0\n",
      "10\n",
      "20\n",
      "30\n",
      "40\n",
      "50\n",
      "60\n",
      "70\n",
      "80\n",
      "90\n",
      "100\n",
      "110\n",
      "120\n",
      "130\n",
      "140\n",
      "150\n",
      "160\n",
      "170\n",
      "180\n",
      "190\n",
      "200\n",
      "210\n",
      "220\n",
      "230\n",
      "240\n",
      "250\n",
      "260\n",
      "270\n",
      "280\n",
      "290\n"
     ]
    }
   ],
   "source": [
    "[X_test2, Y_test2] = generate_test_set_regression()"
   ]
  },
  {
   "cell_type": "markdown",
   "metadata": {},
   "source": [
    "Then we can normalize the vertices of the triangle, using the maximum and the minimum of the coordinates of all vertices, so that all the coordinates is between -1 and 1."
   ]
  },
  {
   "cell_type": "code",
   "execution_count": 29,
   "metadata": {},
   "outputs": [],
   "source": [
    "x1_M = np.max(Y_train3[:,0])\n",
    "x1_m = np.min(Y_train3[:,0])\n",
    "x2_M = np.max(Y_train3[:,2])\n",
    "x2_m = np.min(Y_train3[:,2])\n",
    "x3_M = np.max(Y_train3[:,4])\n",
    "x3_m = np.min(Y_train3[:,4])\n",
    "y1_M = np.max(Y_train3[:,1])\n",
    "y1_m = np.min(Y_train3[:,1])\n",
    "y2_M = np.max(Y_train3[:,3])\n",
    "y2_m = np.min(Y_train3[:,3])\n",
    "y3_M = np.max(Y_train3[:,5])\n",
    "y3_m = np.min(Y_train3[:,5])\n",
    "\n",
    "x1_Mt = np.max(Y_test2[:,0])\n",
    "x1_mt = np.min(Y_test2[:,0])\n",
    "x2_Mt = np.max(Y_test2[:,2])\n",
    "x2_mt = np.min(Y_test2[:,2])\n",
    "x3_Mt = np.max(Y_test2[:,4])\n",
    "x3_mt = np.min(Y_test2[:,4])\n",
    "y1_Mt = np.max(Y_test2[:,1])\n",
    "y1_mt = np.min(Y_test2[:,1])\n",
    "y2_Mt = np.max(Y_test2[:,3])\n",
    "y2_mt = np.min(Y_test2[:,3])\n",
    "y3_Mt = np.max(Y_test2[:,5])\n",
    "y3_mt = np.min(Y_test2[:,5])\n",
    "\n",
    "x_M = np.max(np.array([x1_M,x2_M,x3_M]))\n",
    "x_m = np.min(np.array([x1_m,x2_m,x3_m]))\n",
    "y_M = np.max(np.array([y1_M,y2_M,y3_M]))\n",
    "y_m = np.min(np.array([y1_m,y2_m,y3_m]))\n",
    "\n",
    "x_Mt = np.max(np.array([x1_Mt,x2_Mt,x3_Mt]))\n",
    "x_mt = np.min(np.array([x1_mt,x2_mt,x3_mt]))\n",
    "y_Mt = np.max(np.array([y1_Mt,y2_Mt,y3_Mt]))\n",
    "y_mt = np.min(np.array([y1_mt,y2_mt,y3_mt]))"
   ]
  },
  {
   "cell_type": "code",
   "execution_count": 30,
   "metadata": {},
   "outputs": [],
   "source": [
    "Y_train3_bis = np.copy(Y_train3)\n",
    "Y_train3_bis[:,0] = 2*(Y_train3_bis[:,0] - x_m)/(x_M-x_m) - 1\n",
    "Y_train3_bis[:,2] = 2*(Y_train3_bis[:,2] - x_m)/(x_M-x_m) - 1\n",
    "Y_train3_bis[:,4] = 2*(Y_train3_bis[:,4] - x_m)/(x_M-x_m) - 1\n",
    "Y_train3_bis[:,1] = 2*(Y_train3_bis[:,1] - y_m)/(y_M-y_m) - 1\n",
    "Y_train3_bis[:,3] = 2*(Y_train3_bis[:,3] - y_m)/(y_M-y_m) - 1\n",
    "Y_train3_bis[:,5] = 2*(Y_train3_bis[:,5] - y_m)/(y_M-y_m) - 1\n",
    "\n",
    "Y_test2_bis = np.copy(Y_test2)\n",
    "Y_test2_bis[:,0] = 2*(Y_test2_bis[:,0] - x_mt)/(x_Mt-x_mt) - 1\n",
    "Y_test2_bis[:,2] = 2*(Y_test2_bis[:,2] - x_mt)/(x_Mt-x_mt) - 1\n",
    "Y_test2_bis[:,4] = 2*(Y_test2_bis[:,4] - x_mt)/(x_Mt-x_mt) - 1\n",
    "Y_test2_bis[:,1] = 2*(Y_test2_bis[:,1] - y_mt)/(y_Mt-y_mt) - 1\n",
    "Y_test2_bis[:,3] = 2*(Y_test2_bis[:,3] - y_mt)/(y_Mt-y_mt) - 1\n",
    "Y_test2_bis[:,5] = 2*(Y_test2_bis[:,5] - y_mt)/(y_Mt-y_mt) - 1"
   ]
  },
  {
   "cell_type": "code",
   "execution_count": 31,
   "metadata": {
    "scrolled": true
   },
   "outputs": [
    {
     "name": "stdout",
     "output_type": "stream",
     "text": [
      "Epoch 1/100\n",
      "300/300 [==============================] - 2s 6ms/step - loss: 0.3756\n",
      "Epoch 2/100\n",
      "300/300 [==============================] - 1s 4ms/step - loss: 0.3755\n",
      "Epoch 3/100\n",
      "300/300 [==============================] - 1s 4ms/step - loss: 0.3755\n",
      "Epoch 4/100\n",
      "300/300 [==============================] - 1s 4ms/step - loss: 0.3754\n",
      "Epoch 5/100\n",
      "300/300 [==============================] - 1s 4ms/step - loss: 0.3754\n",
      "Epoch 6/100\n",
      "300/300 [==============================] - 1s 4ms/step - loss: 0.3754\n",
      "Epoch 7/100\n",
      "300/300 [==============================] - 1s 4ms/step - loss: 0.3754\n",
      "Epoch 8/100\n",
      "300/300 [==============================] - 1s 4ms/step - loss: 0.3754\n",
      "Epoch 9/100\n",
      "300/300 [==============================] - 1s 4ms/step - loss: 0.3753\n",
      "Epoch 10/100\n",
      "300/300 [==============================] - 1s 4ms/step - loss: 0.3753\n",
      "Epoch 11/100\n",
      "300/300 [==============================] - 1s 4ms/step - loss: 0.3753\n",
      "Epoch 12/100\n",
      "300/300 [==============================] - 1s 4ms/step - loss: 0.3753\n",
      "Epoch 13/100\n",
      "300/300 [==============================] - 1s 4ms/step - loss: 0.3753\n",
      "Epoch 14/100\n",
      "300/300 [==============================] - 1s 4ms/step - loss: 0.3752\n",
      "Epoch 15/100\n",
      "300/300 [==============================] - 1s 4ms/step - loss: 0.3752\n",
      "Epoch 16/100\n",
      "300/300 [==============================] - 1s 4ms/step - loss: 0.3752\n",
      "Epoch 17/100\n",
      "300/300 [==============================] - 1s 4ms/step - loss: 0.3752\n",
      "Epoch 18/100\n",
      "300/300 [==============================] - 1s 4ms/step - loss: 0.3752\n",
      "Epoch 19/100\n",
      "300/300 [==============================] - 1s 4ms/step - loss: 0.3752\n",
      "Epoch 20/100\n",
      "300/300 [==============================] - 1s 4ms/step - loss: 0.3752\n",
      "Epoch 21/100\n",
      "300/300 [==============================] - 1s 4ms/step - loss: 0.3752\n",
      "Epoch 22/100\n",
      "300/300 [==============================] - 1s 4ms/step - loss: 0.3752\n",
      "Epoch 23/100\n",
      "300/300 [==============================] - 1s 4ms/step - loss: 0.3752\n",
      "Epoch 24/100\n",
      "300/300 [==============================] - 1s 4ms/step - loss: 0.3752\n",
      "Epoch 25/100\n",
      "300/300 [==============================] - 1s 4ms/step - loss: 0.3752\n",
      "Epoch 26/100\n",
      "300/300 [==============================] - 1s 4ms/step - loss: 0.3751\n",
      "Epoch 27/100\n",
      "300/300 [==============================] - 1s 4ms/step - loss: 0.3751\n",
      "Epoch 28/100\n",
      "300/300 [==============================] - 1s 4ms/step - loss: 0.3751\n",
      "Epoch 29/100\n",
      "300/300 [==============================] - 1s 4ms/step - loss: 0.3751\n",
      "Epoch 30/100\n",
      "300/300 [==============================] - 1s 4ms/step - loss: 0.3751\n",
      "Epoch 31/100\n",
      "300/300 [==============================] - 1s 4ms/step - loss: 0.3751\n",
      "Epoch 32/100\n",
      "300/300 [==============================] - 1s 4ms/step - loss: 0.3751\n",
      "Epoch 33/100\n",
      "300/300 [==============================] - 1s 4ms/step - loss: 0.3751\n",
      "Epoch 34/100\n",
      "300/300 [==============================] - 1s 4ms/step - loss: 0.3751\n",
      "Epoch 35/100\n",
      "300/300 [==============================] - 1s 4ms/step - loss: 0.3751\n",
      "Epoch 36/100\n",
      "300/300 [==============================] - 1s 4ms/step - loss: 0.3751\n",
      "Epoch 37/100\n",
      "300/300 [==============================] - 1s 4ms/step - loss: 0.3751\n",
      "Epoch 38/100\n",
      "300/300 [==============================] - 1s 4ms/step - loss: 0.3751\n",
      "Epoch 39/100\n",
      "300/300 [==============================] - 1s 4ms/step - loss: 0.3751\n",
      "Epoch 40/100\n",
      "300/300 [==============================] - 1s 4ms/step - loss: 0.3751\n",
      "Epoch 41/100\n",
      "300/300 [==============================] - 1s 4ms/step - loss: 0.3751\n",
      "Epoch 42/100\n",
      "300/300 [==============================] - 1s 4ms/step - loss: 0.3751\n",
      "Epoch 43/100\n",
      "300/300 [==============================] - 1s 4ms/step - loss: 0.3751\n",
      "Epoch 44/100\n",
      "300/300 [==============================] - 1s 4ms/step - loss: 0.3751\n",
      "Epoch 45/100\n",
      "300/300 [==============================] - 1s 4ms/step - loss: 0.3751\n",
      "Epoch 46/100\n",
      "300/300 [==============================] - 1s 4ms/step - loss: 0.3751\n",
      "Epoch 47/100\n",
      "300/300 [==============================] - 1s 4ms/step - loss: 0.3751\n",
      "Epoch 48/100\n",
      "300/300 [==============================] - 1s 4ms/step - loss: 0.3751\n",
      "Epoch 49/100\n",
      "300/300 [==============================] - 1s 4ms/step - loss: 0.3751\n",
      "Epoch 50/100\n",
      "300/300 [==============================] - 1s 4ms/step - loss: 0.3751\n",
      "Epoch 51/100\n",
      "300/300 [==============================] - 1s 4ms/step - loss: 0.3751\n",
      "Epoch 52/100\n",
      "300/300 [==============================] - 1s 4ms/step - loss: 0.3751\n",
      "Epoch 53/100\n",
      "300/300 [==============================] - 1s 4ms/step - loss: 0.3751\n",
      "Epoch 54/100\n",
      "300/300 [==============================] - 1s 4ms/step - loss: 0.3751\n",
      "Epoch 55/100\n",
      "300/300 [==============================] - 1s 4ms/step - loss: 0.3751\n",
      "Epoch 56/100\n",
      "300/300 [==============================] - 1s 4ms/step - loss: 0.3751\n",
      "Epoch 57/100\n",
      "300/300 [==============================] - 1s 4ms/step - loss: 0.3751\n",
      "Epoch 58/100\n",
      "300/300 [==============================] - 1s 4ms/step - loss: 0.3751\n",
      "Epoch 59/100\n",
      "300/300 [==============================] - 1s 4ms/step - loss: 0.3751\n",
      "Epoch 60/100\n",
      "300/300 [==============================] - 1s 4ms/step - loss: 0.3751\n",
      "Epoch 61/100\n",
      "300/300 [==============================] - 1s 4ms/step - loss: 0.3751\n",
      "Epoch 62/100\n",
      "300/300 [==============================] - 1s 4ms/step - loss: 0.3751\n",
      "Epoch 63/100\n",
      "300/300 [==============================] - 1s 4ms/step - loss: 0.3751\n",
      "Epoch 64/100\n",
      "300/300 [==============================] - 1s 4ms/step - loss: 0.3751\n",
      "Epoch 65/100\n",
      "300/300 [==============================] - 1s 4ms/step - loss: 0.3751\n",
      "Epoch 66/100\n",
      "300/300 [==============================] - 1s 4ms/step - loss: 0.3751\n",
      "Epoch 67/100\n",
      "300/300 [==============================] - 1s 4ms/step - loss: 0.3751\n",
      "Epoch 68/100\n",
      "300/300 [==============================] - 1s 4ms/step - loss: 0.3751\n",
      "Epoch 69/100\n",
      "300/300 [==============================] - 1s 4ms/step - loss: 0.3751\n",
      "Epoch 70/100\n",
      "300/300 [==============================] - 1s 4ms/step - loss: 0.3751\n",
      "Epoch 71/100\n",
      "300/300 [==============================] - 1s 4ms/step - loss: 0.3751\n",
      "Epoch 72/100\n",
      "300/300 [==============================] - 1s 4ms/step - loss: 0.3751\n",
      "Epoch 73/100\n",
      "300/300 [==============================] - 1s 5ms/step - loss: 0.3751\n",
      "Epoch 74/100\n",
      "300/300 [==============================] - 1s 4ms/step - loss: 0.3751\n",
      "Epoch 75/100\n",
      "300/300 [==============================] - 1s 4ms/step - loss: 0.3751\n",
      "Epoch 76/100\n",
      "300/300 [==============================] - 1s 4ms/step - loss: 0.3751\n",
      "Epoch 77/100\n",
      "300/300 [==============================] - 1s 4ms/step - loss: 0.3751\n",
      "Epoch 78/100\n",
      "300/300 [==============================] - 1s 4ms/step - loss: 0.3751\n",
      "Epoch 79/100\n",
      "300/300 [==============================] - 1s 4ms/step - loss: 0.3751\n",
      "Epoch 80/100\n",
      "300/300 [==============================] - 1s 5ms/step - loss: 0.3751\n",
      "Epoch 81/100\n",
      "300/300 [==============================] - 1s 4ms/step - loss: 0.3751\n",
      "Epoch 82/100\n",
      "300/300 [==============================] - 1s 4ms/step - loss: 0.3751\n",
      "Epoch 83/100\n",
      "300/300 [==============================] - 1s 4ms/step - loss: 0.3751\n",
      "Epoch 84/100\n",
      "300/300 [==============================] - 1s 5ms/step - loss: 0.3751\n",
      "Epoch 85/100\n",
      "300/300 [==============================] - 2s 5ms/step - loss: 0.3751\n",
      "Epoch 86/100\n",
      "300/300 [==============================] - 1s 5ms/step - loss: 0.3751\n",
      "Epoch 87/100\n",
      "300/300 [==============================] - 1s 5ms/step - loss: 0.3751\n",
      "Epoch 88/100\n",
      "300/300 [==============================] - 1s 4ms/step - loss: 0.3751\n",
      "Epoch 89/100\n",
      "300/300 [==============================] - 1s 5ms/step - loss: 0.3751\n",
      "Epoch 90/100\n",
      "300/300 [==============================] - 1s 5ms/step - loss: 0.3751\n",
      "Epoch 91/100\n",
      "300/300 [==============================] - 1s 4ms/step - loss: 0.3751\n",
      "Epoch 92/100\n",
      "300/300 [==============================] - 1s 4ms/step - loss: 0.3751\n",
      "Epoch 93/100\n",
      "300/300 [==============================] - 1s 4ms/step - loss: 0.3751\n",
      "Epoch 94/100\n",
      "300/300 [==============================] - 1s 4ms/step - loss: 0.3751\n",
      "Epoch 95/100\n",
      "300/300 [==============================] - 1s 4ms/step - loss: 0.3751\n",
      "Epoch 96/100\n",
      "300/300 [==============================] - 1s 5ms/step - loss: 0.3751\n",
      "Epoch 97/100\n",
      "300/300 [==============================] - 2s 5ms/step - loss: 0.3751\n",
      "Epoch 98/100\n",
      "300/300 [==============================] - 1s 5ms/step - loss: 0.3751\n",
      "Epoch 99/100\n"
     ]
    },
    {
     "name": "stdout",
     "output_type": "stream",
     "text": [
      "300/300 [==============================] - 1s 5ms/step - loss: 0.3751\n",
      "Epoch 100/100\n",
      "300/300 [==============================] - 1s 4ms/step - loss: 0.3751\n"
     ]
    },
    {
     "data": {
      "text/plain": [
       "<keras.callbacks.History at 0x1eb8d657ba8>"
      ]
     },
     "execution_count": 31,
     "metadata": {},
     "output_type": "execute_result"
    }
   ],
   "source": [
    "model6 = Sequential()\n",
    "model6.add(Conv2D(16, (5, 5), activation='relu',input_shape=(72,72,1)))\n",
    "model6.add(MaxPooling2D(pool_size=(2, 2)))\n",
    "model6.add(Flatten())\n",
    "model6.add(Dense(128,activation='softmax'))\n",
    "model6.add(Dense(256,activation='softmax'))\n",
    "model6.add(Dense(256,activation='softmax'))\n",
    "model6.add(Dense(6,activation='softmax'))\n",
    "sgd = SGD(lr=0.003, decay=1e-6, momentum=0.9, nesterov=True)\n",
    "model6.compile(loss='mean_squared_error', optimizer='adam')\n",
    "model6.fit(X_train3.reshape(X_train3.shape[0],72,72,1), Y_train3_bis, epochs=100, batch_size=32)"
   ]
  },
  {
   "cell_type": "code",
   "execution_count": 32,
   "metadata": {},
   "outputs": [
    {
     "name": "stdout",
     "output_type": "stream",
     "text": [
      "300/300 [==============================] - 1s 2ms/step\n"
     ]
    },
    {
     "data": {
      "text/plain": [
       "0.36489617864290874"
      ]
     },
     "execution_count": 32,
     "metadata": {},
     "output_type": "execute_result"
    }
   ],
   "source": [
    "model6.evaluate(X_test2.reshape(X_test2.shape[0],72,72,1),Y_test2_bis)"
   ]
  },
  {
   "cell_type": "code",
   "execution_count": 33,
   "metadata": {},
   "outputs": [],
   "source": [
    "Y = model6.predict((X_test2.reshape(X_test2.shape[0],72,72,1)))"
   ]
  },
  {
   "cell_type": "code",
   "execution_count": 34,
   "metadata": {},
   "outputs": [
    {
     "data": {
      "image/png": "[encoded data removed]",
      "text/plain": [
       "<Figure size 360x360 with 1 Axes>"
      ]
     },
     "metadata": {},
     "output_type": "display_data"
    }
   ],
   "source": [
    "visualize_prediction(X_test2[0], Y[0])"
   ]
  },
  {
   "cell_type": "markdown",
   "metadata": {},
   "source": [
    "We get a low value for the loss function. However, when we try to visualize the prediction, it is pretty inaccurate."
   ]
  },
  {
   "cell_type": "markdown",
   "metadata": {},
   "source": [
    "# Image denoising"
   ]
  },
  {
   "cell_type": "markdown",
   "metadata": {},
   "source": [
    "We now modify the generate function to generate pairs of images."
   ]
  },
  {
   "cell_type": "code",
   "execution_count": 35,
   "metadata": {},
   "outputs": [],
   "source": [
    "#pair of rectangles\n",
    "def generate_a_rectangle2(noise=0.0, free_location=False):\n",
    "    figsize = 1.0    \n",
    "    U = np.zeros(4)\n",
    "    V = np.zeros(4)\n",
    "    if free_location:\n",
    "        corners = np.random.random(4)\n",
    "        top = max(corners[0], corners[1])\n",
    "        bottom = min(corners[0], corners[1])\n",
    "        left = min(corners[2], corners[3])\n",
    "        right = max(corners[2], corners[3])\n",
    "    else:\n",
    "        side = (0.3 + 0.7 * np.random.random()) * figsize\n",
    "        top = figsize/2 + side/2\n",
    "        bottom = figsize/2 - side/2\n",
    "        left = bottom\n",
    "        right = top\n",
    "    U[0] = U[1] = top\n",
    "    U[2] = U[3] = bottom\n",
    "    V[0] = V[3] = left\n",
    "    V[1] = V[2] = right\n",
    "    return generate_a_drawing(figsize, U, V, noise),generate_a_drawing(figsize, U, V, noise=0)\n",
    "\n",
    "# pair of disks\n",
    "def generate_a_disk2(noise=0.0, free_location=False):\n",
    "    figsize = 1.0\n",
    "    if free_location:\n",
    "        center = np.random.random(2)\n",
    "    else:\n",
    "        center = (figsize/2, figsize/2)\n",
    "    radius = (0.3 + 0.7 * np.random.random()) * figsize/2\n",
    "    N = 50\n",
    "    U = np.zeros(N)\n",
    "    V = np.zeros(N)\n",
    "    i = 0\n",
    "    for t in np.linspace(0, 2*np.pi, N):\n",
    "        U[i] = center[0] + np.cos(t) * radius\n",
    "        V[i] = center[1] + np.sin(t) * radius\n",
    "        i = i + 1\n",
    "    return generate_a_drawing(figsize, U, V, noise), generate_a_drawing(figsize, U, V, noise=0)\n",
    "\n",
    "#pair of triangles\n",
    "def generate_a_triangle2(noise=0.0, free_location=False):\n",
    "    figsize = 1.0\n",
    "    if free_location:\n",
    "        U = np.random.random(3)\n",
    "        V = np.random.random(3)\n",
    "    else:\n",
    "        size = (0.3 + 0.7 * np.random.random())*figsize/2\n",
    "        middle = figsize/2\n",
    "        U = (middle, middle+size, middle-size)\n",
    "        V = (middle+size, middle-size, middle-size)\n",
    "    imdata1 = generate_a_drawing(figsize, U, V, noise)\n",
    "    imdata2 = generate_a_drawing(figsize, U, V, noise=0)\n",
    "    return [imdata1, [U[0], V[0], U[1], V[1], U[2], V[2]]],[imdata2, [U[0], V[0], U[1], V[1], U[2], V[2]]]\n",
    "\n",
    "def generate_dataset_classification2(nb_samples, free_location=False):\n",
    "    # Getting im_size:\n",
    "    im_size = generate_a_rectangle().shape[0]\n",
    "    X = np.zeros([nb_samples,im_size])\n",
    "    X_n = np.zeros([nb_samples,im_size])\n",
    "    print('Creating data:')\n",
    "    for i in range(nb_samples):\n",
    "        noise = np.random.random()*100\n",
    "        if i % 10 == 0:\n",
    "            print(i)\n",
    "        category = np.random.randint(3)\n",
    "        if category == 0:\n",
    "            X_n[i], X[i] = generate_a_rectangle2(noise, free_location)\n",
    "        elif category == 1: \n",
    "            X_n[i], X[i] = generate_a_disk2(noise, free_location)\n",
    "        else:\n",
    "            [X_n[i], V_n],[X[i], V] = generate_a_triangle2(noise, free_location)\n",
    "    X = X /255\n",
    "    X_n = (X_n + noise) / (255 + 2 * noise)\n",
    "    return [X_n, X]\n",
    "\n",
    "def generate_test_set_classification2():\n",
    "    np.random.seed(42)\n",
    "    [X_n_test,X_test] = generate_dataset_classification2(300, True)\n",
    "    return [X_n_test,X_test]"
   ]
  },
  {
   "cell_type": "markdown",
   "metadata": {},
   "source": [
    "We create a deep network to solve the problem."
   ]
  },
  {
   "cell_type": "code",
   "execution_count": 36,
   "metadata": {
    "scrolled": true
   },
   "outputs": [
    {
     "name": "stdout",
     "output_type": "stream",
     "text": [
      "Creating data:\n",
      "0\n",
      "10\n",
      "20\n",
      "30\n",
      "40\n",
      "50\n",
      "60\n",
      "70\n",
      "80\n",
      "90\n",
      "100\n",
      "110\n",
      "120\n",
      "130\n",
      "140\n",
      "150\n",
      "160\n",
      "170\n",
      "180\n",
      "190\n",
      "200\n",
      "210\n",
      "220\n",
      "230\n",
      "240\n",
      "250\n",
      "260\n",
      "270\n",
      "280\n",
      "290\n"
     ]
    }
   ],
   "source": [
    "X_n, X = generate_dataset_classification2(nb_samples=300, free_location=True)\n",
    "X_n = X_n.reshape(X_n.shape[0], 72, 72, 1)\n",
    "X = X.reshape(X.shape[0], 72, 72, 1)"
   ]
  },
  {
   "cell_type": "code",
   "execution_count": 37,
   "metadata": {
    "scrolled": true
   },
   "outputs": [
    {
     "name": "stdout",
     "output_type": "stream",
     "text": [
      "Creating data:\n",
      "0\n",
      "10\n",
      "20\n",
      "30\n",
      "40\n",
      "50\n",
      "60\n",
      "70\n",
      "80\n",
      "90\n",
      "100\n",
      "110\n",
      "120\n",
      "130\n",
      "140\n",
      "150\n",
      "160\n",
      "170\n",
      "180\n",
      "190\n",
      "200\n",
      "210\n",
      "220\n",
      "230\n",
      "240\n",
      "250\n",
      "260\n",
      "270\n",
      "280\n",
      "290\n"
     ]
    }
   ],
   "source": [
    "X_n_test, X_test = generate_dataset_classification2(nb_samples=300, free_location=True)\n",
    "X_n_test = X_n_test.reshape(X_test.shape[0], 72, 72, 1)\n",
    "X_test = X_test.reshape(X_test.shape[0], 72, 72, 1)"
   ]
  },
  {
   "cell_type": "markdown",
   "metadata": {},
   "source": [
    "We use autoencoder to build our deep network."
   ]
  },
  {
   "cell_type": "code",
   "execution_count": 38,
   "metadata": {},
   "outputs": [],
   "source": [
    "input_img = Input(shape=(72, 72, 1))  # image data format\n",
    "\n",
    "x = Conv2D(32, (3, 3), activation='relu', padding='same')(input_img)\n",
    "x = MaxPooling2D((2, 2), padding='same')(x)\n",
    "x = Conv2D(32, (3, 3), activation='relu', padding='same')(x)\n",
    "encoded = MaxPooling2D((2, 2), padding='same')(x)\n",
    "\n",
    "\n",
    "x = Conv2D(32, (3, 3), activation='relu', padding='same')(encoded)\n",
    "x = UpSampling2D((2, 2))(x)\n",
    "x = Conv2D(32, (3, 3), activation='relu', padding='same')(x)\n",
    "x = UpSampling2D((2, 2))(x)\n",
    "decoded = Conv2D(1, (3, 3), activation='sigmoid', padding='same')(x)\n",
    "\n",
    "\n",
    "autoencoder = Model(input_img, decoded)\n",
    "autoencoder.compile(optimizer='adam', loss='binary_crossentropy',metrics = ['accuracy'])"
   ]
  },
  {
   "cell_type": "code",
   "execution_count": 39,
   "metadata": {
    "scrolled": true
   },
   "outputs": [
    {
     "name": "stdout",
     "output_type": "stream",
     "text": [
      "Train on 300 samples, validate on 300 samples\n",
      "Epoch 1/20\n",
      "300/300 [==============================] - 10s 32ms/step - loss: 0.4587 - acc: 0.8295 - val_loss: 0.2811 - val_acc: 0.9097\n",
      "Epoch 2/20\n",
      "300/300 [==============================] - 9s 29ms/step - loss: 0.2403 - acc: 0.9066 - val_loss: 0.2055 - val_acc: 0.9097\n",
      "Epoch 3/20\n",
      "300/300 [==============================] - 9s 30ms/step - loss: 0.1421 - acc: 0.9407 - val_loss: 0.1000 - val_acc: 0.9665\n",
      "Epoch 4/20\n",
      "300/300 [==============================] - 9s 29ms/step - loss: 0.0505 - acc: 0.9871 - val_loss: 0.0431 - val_acc: 0.9829\n",
      "Epoch 5/20\n",
      "300/300 [==============================] - 9s 29ms/step - loss: 0.0253 - acc: 0.9913 - val_loss: 0.0357 - val_acc: 0.9866\n",
      "Epoch 6/20\n",
      "300/300 [==============================] - 9s 31ms/step - loss: 0.0225 - acc: 0.9923 - val_loss: 0.0253 - val_acc: 0.9904\n",
      "Epoch 7/20\n",
      "300/300 [==============================] - 9s 29ms/step - loss: 0.0213 - acc: 0.9924 - val_loss: 0.0260 - val_acc: 0.9893\n",
      "Epoch 8/20\n",
      "300/300 [==============================] - 9s 30ms/step - loss: 0.0190 - acc: 0.9929 - val_loss: 0.0273 - val_acc: 0.9885\n",
      "Epoch 9/20\n",
      "300/300 [==============================] - 9s 28ms/step - loss: 0.0184 - acc: 0.9930 - val_loss: 0.0207 - val_acc: 0.9914\n",
      "Epoch 10/20\n",
      "300/300 [==============================] - 9s 30ms/step - loss: 0.0167 - acc: 0.9938 - val_loss: 0.0181 - val_acc: 0.9931\n",
      "Epoch 11/20\n",
      "300/300 [==============================] - 9s 28ms/step - loss: 0.0161 - acc: 0.9939 - val_loss: 0.0165 - val_acc: 0.9940\n",
      "Epoch 12/20\n",
      "300/300 [==============================] - 9s 30ms/step - loss: 0.0152 - acc: 0.9943 - val_loss: 0.0184 - val_acc: 0.9925\n",
      "Epoch 13/20\n",
      "300/300 [==============================] - 9s 29ms/step - loss: 0.0143 - acc: 0.9946 - val_loss: 0.0161 - val_acc: 0.9938\n",
      "Epoch 14/20\n",
      "300/300 [==============================] - 9s 30ms/step - loss: 0.0136 - acc: 0.9949 - val_loss: 0.0148 - val_acc: 0.9948\n",
      "Epoch 15/20\n",
      "300/300 [==============================] - 9s 29ms/step - loss: 0.0136 - acc: 0.9947 - val_loss: 0.0142 - val_acc: 0.9950\n",
      "Epoch 16/20\n",
      "300/300 [==============================] - 9s 29ms/step - loss: 0.0138 - acc: 0.9948 - val_loss: 0.0138 - val_acc: 0.9951\n",
      "Epoch 17/20\n",
      "300/300 [==============================] - 9s 30ms/step - loss: 0.0128 - acc: 0.9951 - val_loss: 0.0136 - val_acc: 0.9950\n",
      "Epoch 18/20\n",
      "300/300 [==============================] - 9s 30ms/step - loss: 0.0119 - acc: 0.9956 - val_loss: 0.0153 - val_acc: 0.9937\n",
      "Epoch 19/20\n",
      "300/300 [==============================] - 9s 30ms/step - loss: 0.0112 - acc: 0.9958 - val_loss: 0.0139 - val_acc: 0.9945\n",
      "Epoch 20/20\n",
      "300/300 [==============================] - 9s 29ms/step - loss: 0.0105 - acc: 0.9961 - val_loss: 0.0124 - val_acc: 0.9955\n"
     ]
    },
    {
     "data": {
      "text/plain": [
       "<keras.callbacks.History at 0x1eba35cf208>"
      ]
     },
     "execution_count": 39,
     "metadata": {},
     "output_type": "execute_result"
    }
   ],
   "source": [
    "autoencoder.fit(X_n, X,\n",
    "                epochs=20,\n",
    "                batch_size=32,\n",
    "                shuffle=True,\n",
    "                validation_data=(X_n_test, X_test))"
   ]
  },
  {
   "cell_type": "markdown",
   "metadata": {},
   "source": [
    "We get good results as the model is very accurate."
   ]
  },
  {
   "cell_type": "code",
   "execution_count": 40,
   "metadata": {},
   "outputs": [
    {
     "data": {
      "image/png": "[encoded data removed]",
      "text/plain": [
       "<Figure size 1440x288 with 20 Axes>"
      ]
     },
     "metadata": {},
     "output_type": "display_data"
    }
   ],
   "source": [
    "decoded_imgs = autoencoder.predict(X_n_test)\n",
    "\n",
    "n = 10\n",
    "plt.figure(figsize=(20, 4))\n",
    "for i in range(1,n+1):\n",
    "    # display original\n",
    "    ax = plt.subplot(2, n, i)\n",
    "    plt.imshow(X_n_test[i].reshape(72, 72))\n",
    "    plt.gray()\n",
    "    ax.get_xaxis().set_visible(False)\n",
    "    ax.get_yaxis().set_visible(False)\n",
    "\n",
    "    # display reconstruction\n",
    "    ax = plt.subplot(2, n, i + n)\n",
    "    plt.imshow(decoded_imgs[i].reshape(72, 72))\n",
    "    plt.gray()\n",
    "    ax.get_xaxis().set_visible(False)\n",
    "    ax.get_yaxis().set_visible(False)\n",
    "plt.show()"
   ]
  },
  {
   "cell_type": "markdown",
   "metadata": {},
   "source": [
    "We can now reconstruct well the images, except for the third one which has too much noise."
   ]
  }
 ],
 "metadata": {
  "kernelspec": {
   "display_name": "Python 3",
   "language": "python",
   "name": "python3"
  },
  "language_info": {
   "codemirror_mode": {
    "name": "ipython",
    "version": 3
   },
   "file_extension": ".py",
   "mimetype": "text/x-python",
   "name": "python",
   "nbconvert_exporter": "python",
   "pygments_lexer": "ipython3",
   "version": "3.5.5"
  }
 },
 "nbformat": 4,
 "nbformat_minor": 2
}
